{
 "cells": [
  {
   "cell_type": "code",
   "execution_count": 1,
   "metadata": {
    "scrolled": true
   },
   "outputs": [
    {
     "name": "stderr",
     "output_type": "stream",
     "text": [
      "/home/kevinteng/anaconda3/lib/python3.6/site-packages/tensorboard/compat/tensorflow_stub/dtypes.py:541: FutureWarning: Passing (type, 1) or '1type' as a synonym of type is deprecated; in a future version of numpy, it will be understood as (type, (1,)) / '(1,)type'.\n",
      "  _np_qint8 = np.dtype([(\"qint8\", np.int8, 1)])\n",
      "/home/kevinteng/anaconda3/lib/python3.6/site-packages/tensorboard/compat/tensorflow_stub/dtypes.py:542: FutureWarning: Passing (type, 1) or '1type' as a synonym of type is deprecated; in a future version of numpy, it will be understood as (type, (1,)) / '(1,)type'.\n",
      "  _np_quint8 = np.dtype([(\"quint8\", np.uint8, 1)])\n",
      "/home/kevinteng/anaconda3/lib/python3.6/site-packages/tensorboard/compat/tensorflow_stub/dtypes.py:543: FutureWarning: Passing (type, 1) or '1type' as a synonym of type is deprecated; in a future version of numpy, it will be understood as (type, (1,)) / '(1,)type'.\n",
      "  _np_qint16 = np.dtype([(\"qint16\", np.int16, 1)])\n",
      "/home/kevinteng/anaconda3/lib/python3.6/site-packages/tensorboard/compat/tensorflow_stub/dtypes.py:544: FutureWarning: Passing (type, 1) or '1type' as a synonym of type is deprecated; in a future version of numpy, it will be understood as (type, (1,)) / '(1,)type'.\n",
      "  _np_quint16 = np.dtype([(\"quint16\", np.uint16, 1)])\n",
      "/home/kevinteng/anaconda3/lib/python3.6/site-packages/tensorboard/compat/tensorflow_stub/dtypes.py:545: FutureWarning: Passing (type, 1) or '1type' as a synonym of type is deprecated; in a future version of numpy, it will be understood as (type, (1,)) / '(1,)type'.\n",
      "  _np_qint32 = np.dtype([(\"qint32\", np.int32, 1)])\n",
      "/home/kevinteng/anaconda3/lib/python3.6/site-packages/tensorboard/compat/tensorflow_stub/dtypes.py:550: FutureWarning: Passing (type, 1) or '1type' as a synonym of type is deprecated; in a future version of numpy, it will be understood as (type, (1,)) / '(1,)type'.\n",
      "  np_resource = np.dtype([(\"resource\", np.ubyte, 1)])\n"
     ]
    }
   ],
   "source": [
    "import numpy as np \n",
    "import tensorflow as tf\n",
    "import matplotlib.pyplot as plt\n",
    "import os \n",
    "import sys \n",
    "%matplotlib inline"
   ]
  },
  {
   "cell_type": "markdown",
   "metadata": {},
   "source": [
    "----"
   ]
  },
  {
   "cell_type": "markdown",
   "metadata": {},
   "source": [
    "# Helper Function"
   ]
  },
  {
   "cell_type": "code",
   "execution_count": 49,
   "metadata": {},
   "outputs": [],
   "source": [
    "def threeD_to_twoD(save_dir, ds_list, ds_list_str):\n",
    "    '''\n",
    "    Stack all the images according to slices of a patient to create a 2D image stacks\n",
    "    \n",
    "    @param save_dir: The directory where the images need to be save\n",
    "    '''\n",
    "    if not os.path.exists(save_dir):\n",
    "        os.makedirs(save_dir)\n",
    "\n",
    "    for ds, file_name in zip(ds_list, ds_list_str):\n",
    "        for data in sorted(os.listdir(ds)):\n",
    "            if data == 'OT':\n",
    "                continue #skip the label directory \n",
    "            merge_path_01 = os.path.join(ds+data+'/')\n",
    "            img_stack = []\n",
    "            for imgs in sorted(os.listdir(merge_path_01)):\n",
    "                merge_path_02 = os.path.join(merge_path_01+'/'+imgs)\n",
    "                med_img = np.load(merge_path_02).astype(np.float32)\n",
    "                for i in range(med_img.shape[-1]): #last dimension is the number of slices\n",
    "                    img_stack.append(med_img[:,:,i])\n",
    "            img_stack = np.array(img_stack)\n",
    "            np.save(save_dir+'{}_{}'.format(file_name, data), img_stack)\n",
    "\n",
    "def concat_recursive(a, b, max_count,count=0):\n",
    "    '''\n",
    "    Recursively concatenate the image stacks with the next image stacks\n",
    "    \n",
    "    @param a: Top first image stacks\n",
    "    @param b: Following image stacks\n",
    "    '''\n",
    "    while count<max_count-1: \n",
    "        c = np.concatenate((a,b), axis = 0)\n",
    "        a = c\n",
    "        count+=1\n",
    "        concat_recursive(a,b, max_count, count)\n",
    "    return a\n",
    "\n",
    "def _bytes_feature(value):\n",
    "    \"\"\"Returns a bytes_list from a string / byte.\"\"\"\n",
    "    # If the value is an eager tensor BytesList won't unpack a string from an EagerTensor.\n",
    "    if isinstance(value, type(tf.constant(0))):\n",
    "        value = value.numpy() \n",
    "    return tf.train.Feature(bytes_list=tf.train.BytesList(value=[value]))\n",
    "\n",
    "def _float_feature(value):\n",
    "    \"\"\"Returns a float_list from a float / double.\"\"\"\n",
    "    return tf.train.Feature(float_list=tf.train.FloatList(value=[value]))\n",
    "\n",
    "def _int64_feature(value):\n",
    "    \"\"\"Returns an int64_list from a bool / enum / int / uint.\"\"\"\n",
    "    return tf.train.Feature(int64_list=tf.train.Int64List(value=[value]))\n",
    "\n",
    "def serialize_example(image, label):\n",
    "    '''\n",
    "    Adding image and label info to TFRecords dataset\n",
    "    '''\n",
    "    feature = {\n",
    "        'image': _bytes_feature(image),\n",
    "        'label': _bytes_feature(label),\n",
    "    }\n",
    "    example_proto = tf.train.Example(features=tf.train.Features(feature=feature))\n",
    "    return example_proto.SerializeToString()\n",
    "\n",
    "def write_tfrecords(tfrecord_dir, image_paths, labels_path):\n",
    "    '''\n",
    "    write TFRecords to appointed directory \n",
    "    '''\n",
    "    with tf.io.TFRecordWriter(tfrecord_dir) as writer:\n",
    "        for image, label in zip(image_paths, labels_path):\n",
    "            img_bytes = tf.io.serialize_tensor(image)\n",
    "            labels = tf.io.serialize_tensor(label)\n",
    "            example = serialize_example(img_bytes, labels)\n",
    "            writer.write(example)\n",
    "            \n",
    "def read_tfrecord(serialized_example):\n",
    "    '''\n",
    "    read TFRecords from appointed directory \n",
    "    '''\n",
    "    feature_description = {\n",
    "        'image': tf.io.FixedLenFeature((), tf.string),\n",
    "        'label': tf.io.FixedLenFeature((), tf.string),\n",
    "    }\n",
    "    example = tf.io.parse_single_example(serialized_example, feature_description)\n",
    "    \n",
    "    image = tf.io.parse_tensor(example['image'], out_type = float)\n",
    "    label = tf.io.parse_tensor(example['label'], out_type = float)\n",
    "    \n",
    "    return image, label\n",
    "\n",
    "def parse_tfrecord(tf_dir):\n",
    "    tfrecord_dataset = tf.data.TFRecordDataset(tf_dir)\n",
    "    parsed_dataset = tfrecord_dataset.map(read_tfrecord)\n",
    "    return parsed_dataset"
   ]
  },
  {
   "cell_type": "markdown",
   "metadata": {},
   "source": [
    "---"
   ]
  },
  {
   "cell_type": "markdown",
   "metadata": {},
   "source": [
    "# Inputs"
   ]
  },
  {
   "cell_type": "code",
   "execution_count": 3,
   "metadata": {},
   "outputs": [],
   "source": [
    "#image data (Flair, T1, T1c, T2) \n",
    "HGG_training = '/home/kevinteng/Desktop/BRATS_Pre/BRATS2015_Training/HGG/'\n",
    "LGG_training = '/home/kevinteng/Desktop/BRATS_Pre/BRATS2015_Training/LGG/'\n",
    "#labels (complete_tumor, core, enhancing_tumor)\n",
    "HGG_lbl = '/home/kevinteng/Desktop/BRAT_lbl/HGG/'\n",
    "LGG_lbl = '/home/kevinteng/Desktop/BRAT_lbl/LGG/'\n",
    "#save directory \n",
    "save_dir = '/home/kevinteng/Desktop/BRATS_stack/'"
   ]
  },
  {
   "cell_type": "code",
   "execution_count": 4,
   "metadata": {
    "scrolled": false
   },
   "outputs": [
    {
     "name": "stdout",
     "output_type": "stream",
     "text": [
      "File name: /home/kevinteng/Desktop/BRATS_Pre/BRATS2015_Training/HGG/\n",
      "|__ MR_Flair\n",
      "|__ MR_T1\n",
      "|__ MR_T1c\n",
      "|__ MR_T2\n",
      "\n",
      "File name: /home/kevinteng/Desktop/BRAT_lbl/HGG/\n",
      "|__ complete_tumor\n",
      "|__ core\n",
      "|__ enhancing_tumor\n",
      "\n",
      "File name: /home/kevinteng/Desktop/BRATS_Pre/BRATS2015_Training/LGG/\n",
      "|__ MR_Flair\n",
      "|__ MR_T1\n",
      "|__ MR_T1c\n",
      "|__ MR_T2\n",
      "\n",
      "File name: /home/kevinteng/Desktop/BRAT_lbl/LGG/\n",
      "|__ complete_tumor\n",
      "|__ core\n",
      "|__ enhancing_tumor\n",
      "\n"
     ]
    }
   ],
   "source": [
    "ds_list = [HGG_training, HGG_lbl, LGG_training, LGG_lbl]\n",
    "ds_list_str = ['HGG_training', 'HGG_lbl', 'LGG_training', 'LGG_lbl']\n",
    "for ds in ds_list:\n",
    "    print('File name: {}'.format(ds))\n",
    "    for data in sorted(os.listdir(ds)):\n",
    "        if data == 'OT':\n",
    "            continue #skip the label directory \n",
    "        print('|__ {}'.format(data))\n",
    "    print()"
   ]
  },
  {
   "cell_type": "markdown",
   "metadata": {},
   "source": [
    "## Stacking Images "
   ]
  },
  {
   "cell_type": "markdown",
   "metadata": {},
   "source": [
    "Converting from 3D to 2D data by stacking up along axis = -1, which is the dimension of image slices.  \n",
    "Example:  \n",
    "- Image_01 (240, 240, 155)\n",
    "- Image_02 (240, 240, 155)\n",
    "- Stack:  \n",
<<<<<<< HEAD
    "    Image_stack (310, 240, 240)\n",
    "    \n",
    "    MRI (220 x 155, 240, 240) "
=======
    "    Image_stack (310, 240, 240)  \n",
    "\n",
    "Example:\n",
    "- HGG => 220 patients each  \n",
    "    Flair (220 x 155, 240, 240)  \n",
    "    T1 (220 x 155, 240, 240)  \n",
    "    T1c (220 x 155, 240, 240)  \n",
    "    T2 (220 x 155, 240, 240)  "
>>>>>>> d3caa4285076bfb6671bcd3a5d62bee40385d733
   ]
  },
  {
   "cell_type": "code",
   "execution_count": 5,
   "metadata": {},
   "outputs": [],
   "source": [
    "# threeD_to_twoD(save_dir)"
   ]
  },
  {
   "cell_type": "code",
   "execution_count": 6,
   "metadata": {
    "scrolled": true
   },
   "outputs": [
    {
     "name": "stdout",
     "output_type": "stream",
     "text": [
      "HGG_lbl\n",
      "HGG_training\n",
      "LGG_lbl\n",
      "LGG_training\n"
     ]
    }
   ],
   "source": [
    "#create file for HGG_lbl, LGG_lbl, HGG_training, LGG_training respectively\n",
    "for npy in sorted(os.listdir(save_dir)):\n",
    "    print(npy)"
   ]
  },
  {
   "cell_type": "markdown",
   "metadata": {},
   "source": [
    "## Zipping Foreground(Image data) with Labels(ground truth)"
   ]
  },
  {
   "cell_type": "code",
   "execution_count": 7,
   "metadata": {},
   "outputs": [
    {
     "name": "stdout",
     "output_type": "stream",
     "text": [
      "File name--> HGG_lbl\n",
      "\n",
      " -FIle name--> HGG_training\n",
      " -- Label: HGG_lbl_complete_tumor.npy\n",
      "  --- Label + Images: HGG_lbl_complete_tumor_HGG_training_MR_Flair.npy\n",
      "  --- Label + Images: HGG_lbl_complete_tumor_HGG_training_MR_T1.npy\n",
      "  --- Label + Images: HGG_lbl_complete_tumor_HGG_training_MR_T1c.npy\n",
      "  --- Label + Images: HGG_lbl_complete_tumor_HGG_training_MR_T2.npy\n",
      "\n",
      " -- Label: HGG_lbl_core.npy\n",
      "  --- Label + Images: HGG_lbl_core_HGG_training_MR_Flair.npy\n",
      "  --- Label + Images: HGG_lbl_core_HGG_training_MR_T1.npy\n",
      "  --- Label + Images: HGG_lbl_core_HGG_training_MR_T1c.npy\n",
      "  --- Label + Images: HGG_lbl_core_HGG_training_MR_T2.npy\n",
      "\n",
      " -- Label: HGG_lbl_enhancing_tumor.npy\n",
      "  --- Label + Images: HGG_lbl_enhancing_tumor_HGG_training_MR_Flair.npy\n",
      "  --- Label + Images: HGG_lbl_enhancing_tumor_HGG_training_MR_T1.npy\n",
      "  --- Label + Images: HGG_lbl_enhancing_tumor_HGG_training_MR_T1c.npy\n",
      "  --- Label + Images: HGG_lbl_enhancing_tumor_HGG_training_MR_T2.npy\n",
      "\n",
      "\n",
      "File name--> LGG_lbl\n",
      "\n",
      " -FIle name--> LGG_training\n",
      " -- Label: LGG_lbl_complete_tumor.npy\n",
      "  --- Label + Images: LGG_lbl_complete_tumor_LGG_training_MR_Flair.npy\n",
      "  --- Label + Images: LGG_lbl_complete_tumor_LGG_training_MR_T1.npy\n",
      "  --- Label + Images: LGG_lbl_complete_tumor_LGG_training_MR_T1c.npy\n",
      "  --- Label + Images: LGG_lbl_complete_tumor_LGG_training_MR_T2.npy\n",
      "\n",
      " -- Label: LGG_lbl_core.npy\n",
      "  --- Label + Images: LGG_lbl_core_LGG_training_MR_Flair.npy\n",
      "  --- Label + Images: LGG_lbl_core_LGG_training_MR_T1.npy\n",
      "  --- Label + Images: LGG_lbl_core_LGG_training_MR_T1c.npy\n",
      "  --- Label + Images: LGG_lbl_core_LGG_training_MR_T2.npy\n",
      "\n",
      " -- Label: LGG_lbl_enhancing_tumor.npy\n",
      "  --- Label + Images: LGG_lbl_enhancing_tumor_LGG_training_MR_Flair.npy\n",
      "  --- Label + Images: LGG_lbl_enhancing_tumor_LGG_training_MR_T1.npy\n",
      "  --- Label + Images: LGG_lbl_enhancing_tumor_LGG_training_MR_T1c.npy\n",
      "  --- Label + Images: LGG_lbl_enhancing_tumor_LGG_training_MR_T2.npy\n",
      "\n",
      "\n"
     ]
    }
   ],
   "source": [
    "for files in sorted(os.listdir(save_dir)):\n",
    "    file_name = files.split('_')[-1] #training / lbl\n",
    "    if file_name != 'training': #label files\n",
    "        print('File name-->',files)\n",
    "        merge_path_01 = os.path.join(save_dir+files+'/')\n",
    "    if file_name == 'training':\n",
    "        print(' -FIle name-->',files)\n",
    "        merge_path_02 = os.path.join(save_dir+files+'/')\n",
    "        for npy in sorted(os.listdir(merge_path_01)):\n",
    "            print(' -- Label: '+npy)\n",
    "            for images in sorted(os.listdir(merge_path_02)):\n",
    "                print('  --- Label + Images: '+npy.split('.')[0]+'_'+images)\n",
    "            print()\n",
    "    print()"
   ]
  },
  {
   "cell_type": "code",
   "execution_count": 12,
   "metadata": {
    "scrolled": false
   },
   "outputs": [
    {
     "name": "stdout",
     "output_type": "stream",
     "text": [
      "File name--> HGG_lbl\n",
      "\n",
      " -FIle name--> HGG_training\n",
      " -- Label: HGG_lbl_complete_tumor.npy\n",
      "  --- Label + Images: HGG_lbl_complete_tumor_HGG_training_MR_Flair\n",
      "  --- Label + Images: HGG_lbl_complete_tumor_HGG_training_MR_T1\n",
      "  --- Label + Images: HGG_lbl_complete_tumor_HGG_training_MR_T1c\n",
      "  --- Label + Images: HGG_lbl_complete_tumor_HGG_training_MR_T2\n",
      "\n",
      " -- Label: HGG_lbl_core.npy\n",
      "  --- Label + Images: HGG_lbl_core_HGG_training_MR_Flair\n"
     ]
    },
    {
     "ename": "ResourceExhaustedError",
     "evalue": "/home/kevinteng/Desktop/BrainTumourSegmentation/tfrecords/HGG_lbl_core_HGG_training_MR_Flair.tfrecords; No space left on device",
     "output_type": "error",
     "traceback": [
      "\u001b[0;31m---------------------------------------------------------------------------\u001b[0m",
      "\u001b[0;31mResourceExhaustedError\u001b[0m                    Traceback (most recent call last)",
      "\u001b[0;32m<ipython-input-12-06f0e3bad507>\u001b[0m in \u001b[0;36m<module>\u001b[0;34m()\u001b[0m\n\u001b[1;32m     20\u001b[0m                 \u001b[0mtfrecord_dir\u001b[0m \u001b[0;34m=\u001b[0m \u001b[0mtfrecord_folder\u001b[0m \u001b[0;34m+\u001b[0m \u001b[0msave_name\u001b[0m \u001b[0;34m+\u001b[0m\u001b[0;34m'.tfrecords'\u001b[0m\u001b[0;34m\u001b[0m\u001b[0m\n\u001b[1;32m     21\u001b[0m                 \u001b[0mprint\u001b[0m\u001b[0;34m(\u001b[0m\u001b[0;34m'  --- Label + Images: '\u001b[0m\u001b[0;34m+\u001b[0m\u001b[0msave_name\u001b[0m\u001b[0;34m)\u001b[0m\u001b[0;34m\u001b[0m\u001b[0m\n\u001b[0;32m---> 22\u001b[0;31m                 \u001b[0mwrite_tfrecords\u001b[0m\u001b[0;34m(\u001b[0m\u001b[0mtfrecord_dir\u001b[0m\u001b[0;34m,\u001b[0m \u001b[0mforeground\u001b[0m\u001b[0;34m,\u001b[0m\u001b[0mground_truth\u001b[0m\u001b[0;34m)\u001b[0m\u001b[0;34m\u001b[0m\u001b[0m\n\u001b[0m\u001b[1;32m     23\u001b[0m             \u001b[0mprint\u001b[0m\u001b[0;34m(\u001b[0m\u001b[0;34m)\u001b[0m\u001b[0;34m\u001b[0m\u001b[0m\n\u001b[1;32m     24\u001b[0m     \u001b[0mprint\u001b[0m\u001b[0;34m(\u001b[0m\u001b[0;34m)\u001b[0m\u001b[0;34m\u001b[0m\u001b[0m\n",
      "\u001b[0;32m<ipython-input-11-b8ebd635fc28>\u001b[0m in \u001b[0;36mwrite_tfrecords\u001b[0;34m(tfrecord_dir, image_paths, labels_path)\u001b[0m\n\u001b[1;32m      5\u001b[0m             \u001b[0mlabels\u001b[0m \u001b[0;34m=\u001b[0m \u001b[0mtf\u001b[0m\u001b[0;34m.\u001b[0m\u001b[0mio\u001b[0m\u001b[0;34m.\u001b[0m\u001b[0mserialize_tensor\u001b[0m\u001b[0;34m(\u001b[0m\u001b[0mlabel\u001b[0m\u001b[0;34m)\u001b[0m\u001b[0;34m\u001b[0m\u001b[0m\n\u001b[1;32m      6\u001b[0m             \u001b[0mexample\u001b[0m \u001b[0;34m=\u001b[0m \u001b[0mserialize_example\u001b[0m\u001b[0;34m(\u001b[0m\u001b[0mimg_bytes\u001b[0m\u001b[0;34m,\u001b[0m \u001b[0mlabels\u001b[0m\u001b[0;34m)\u001b[0m\u001b[0;34m\u001b[0m\u001b[0m\n\u001b[0;32m----> 7\u001b[0;31m             \u001b[0mwriter\u001b[0m\u001b[0;34m.\u001b[0m\u001b[0mwrite\u001b[0m\u001b[0;34m(\u001b[0m\u001b[0mexample\u001b[0m\u001b[0;34m)\u001b[0m\u001b[0;34m\u001b[0m\u001b[0m\n\u001b[0m",
      "\u001b[0;32m~/anaconda3/lib/python3.6/site-packages/tensorflow_core/python/lib/io/tf_record.py\u001b[0m in \u001b[0;36mwrite\u001b[0;34m(self, record)\u001b[0m\n\u001b[1;32m    234\u001b[0m     \"\"\"\n\u001b[1;32m    235\u001b[0m     \u001b[0;32mwith\u001b[0m \u001b[0merrors\u001b[0m\u001b[0;34m.\u001b[0m\u001b[0mraise_exception_on_not_ok_status\u001b[0m\u001b[0;34m(\u001b[0m\u001b[0;34m)\u001b[0m \u001b[0;32mas\u001b[0m \u001b[0mstatus\u001b[0m\u001b[0;34m:\u001b[0m\u001b[0;34m\u001b[0m\u001b[0m\n\u001b[0;32m--> 236\u001b[0;31m       \u001b[0mself\u001b[0m\u001b[0;34m.\u001b[0m\u001b[0m_writer\u001b[0m\u001b[0;34m.\u001b[0m\u001b[0mWriteRecord\u001b[0m\u001b[0;34m(\u001b[0m\u001b[0mrecord\u001b[0m\u001b[0;34m,\u001b[0m \u001b[0mstatus\u001b[0m\u001b[0;34m)\u001b[0m\u001b[0;34m\u001b[0m\u001b[0m\n\u001b[0m\u001b[1;32m    237\u001b[0m \u001b[0;34m\u001b[0m\u001b[0m\n\u001b[1;32m    238\u001b[0m   \u001b[0;32mdef\u001b[0m \u001b[0mflush\u001b[0m\u001b[0;34m(\u001b[0m\u001b[0mself\u001b[0m\u001b[0;34m)\u001b[0m\u001b[0;34m:\u001b[0m\u001b[0;34m\u001b[0m\u001b[0m\n",
      "\u001b[0;32m~/anaconda3/lib/python3.6/site-packages/tensorflow_core/python/framework/errors_impl.py\u001b[0m in \u001b[0;36m__exit__\u001b[0;34m(self, type_arg, value_arg, traceback_arg)\u001b[0m\n\u001b[1;32m    552\u001b[0m             \u001b[0;32mNone\u001b[0m\u001b[0;34m,\u001b[0m \u001b[0;32mNone\u001b[0m\u001b[0;34m,\u001b[0m\u001b[0;34m\u001b[0m\u001b[0m\n\u001b[1;32m    553\u001b[0m             \u001b[0mcompat\u001b[0m\u001b[0;34m.\u001b[0m\u001b[0mas_text\u001b[0m\u001b[0;34m(\u001b[0m\u001b[0mc_api\u001b[0m\u001b[0;34m.\u001b[0m\u001b[0mTF_Message\u001b[0m\u001b[0;34m(\u001b[0m\u001b[0mself\u001b[0m\u001b[0;34m.\u001b[0m\u001b[0mstatus\u001b[0m\u001b[0;34m.\u001b[0m\u001b[0mstatus\u001b[0m\u001b[0;34m)\u001b[0m\u001b[0;34m)\u001b[0m\u001b[0;34m,\u001b[0m\u001b[0;34m\u001b[0m\u001b[0m\n\u001b[0;32m--> 554\u001b[0;31m             c_api.TF_GetCode(self.status.status))\n\u001b[0m\u001b[1;32m    555\u001b[0m     \u001b[0;31m# Delete the underlying status object from memory otherwise it stays alive\u001b[0m\u001b[0;34m\u001b[0m\u001b[0;34m\u001b[0m\u001b[0m\n\u001b[1;32m    556\u001b[0m     \u001b[0;31m# as there is a reference to status from this from the traceback due to\u001b[0m\u001b[0;34m\u001b[0m\u001b[0;34m\u001b[0m\u001b[0m\n",
      "\u001b[0;31mResourceExhaustedError\u001b[0m: /home/kevinteng/Desktop/BrainTumourSegmentation/tfrecords/HGG_lbl_core_HGG_training_MR_Flair.tfrecords; No space left on device"
     ]
    }
   ],
   "source": [
    "# tfrecord_folder = '/home/kevinteng/Desktop/BrainTumourSegmentation/tfrecords/'\n",
    "\n",
    "# for files in sorted(os.listdir(save_dir)):\n",
    "#     file_name = files.split('_')[-1] #training / lbl\n",
    "#     if file_name != 'training': #label files\n",
    "#         print('File name-->',files)\n",
    "#         merge_path_01 = os.path.join(save_dir+files+'/')\n",
    "#     if file_name == 'training':\n",
    "#         print(' -FIle name-->',files)\n",
    "#         merge_path_02 = os.path.join(save_dir+files+'/')\n",
    "        \n",
    "#         for lbl in sorted(os.listdir(merge_path_01)):\n",
    "#             merge_path_03 = os.path.join(merge_path_01+lbl)\n",
    "#             ground_truth = np.load(merge_path_03)\n",
    "#             print(' -- Label: '+lbl)\n",
    "#             for images in sorted(os.listdir(merge_path_02)):\n",
    "#                 merge_path_04 = os.path.join(merge_path_02+images)\n",
    "#                 foreground = np.load(merge_path_04)\n",
    "#                 save_name = lbl.split('.')[0]+'_'+images.split('.')[0]\n",
    "#                 tfrecord_dir = tfrecord_folder + save_name +'.tfrecords'\n",
    "#                 print('  --- Label + Images: '+save_name)\n",
    "#                 write_tfrecords(tfrecord_dir, foreground,ground_truth)\n",
    "#             print()\n",
    "#     print()"
   ]
  },
  {
   "cell_type": "markdown",
   "metadata": {},
   "source": [
    "Not enough disk space to process other TFRecords"
   ]
  },
  {
   "cell_type": "code",
   "execution_count": 74,
   "metadata": {},
   "outputs": [
    {
     "name": "stdout",
     "output_type": "stream",
     "text": [
      "HGG_lbl_complete_tumor_HGG_training_MR_Flair.tfrecords\n",
      "HGG_lbl_complete_tumor_HGG_training_MR_T1.tfrecords\n",
      "HGG_lbl_complete_tumor_HGG_training_MR_T1c.tfrecords\n",
      "HGG_lbl_complete_tumor_HGG_training_MR_T2.tfrecords\n"
     ]
    }
   ],
   "source": [
    "tfrecords_read_dir = '/home/kevinteng/Desktop/BRATS_stack/tfrecords/'\n",
    "\n",
    "for tf_re in sorted(os.listdir(tfrecords_read_dir)):\n",
    "    print(tf_re)"
   ]
  },
  {
   "cell_type": "markdown",
   "metadata": {},
   "source": [
    "Shuffle, Batch and create iterator from TFRecords"
   ]
  },
  {
   "cell_type": "code",
   "execution_count": 71,
   "metadata": {},
   "outputs": [],
   "source": [
    "SHUFFLE_BUFFER = 4000\n",
    "BATCH_SIZE = 8\n",
    "\n",
    "for tf_re in sorted(os.listdir(tfrecords_read_dir)):\n",
    "    tf_dir = os.path.join(tfrecords_read_dir+tf_re)\n",
    "    dataset = parse_tfrecord(tf_dir).shuffle(SHUFFLE_BUFFER).batch(BATCH_SIZE)\n",
    "    image, label = next(iter(dataset))\n",
    "    image = tf.reshape(image, [-1, 240, 240, 1])\n",
    "    label = tf.reshape(label, [-1, 240, 240, 1])\n",
    "    break"
   ]
  },
  {
   "cell_type": "code",
   "execution_count": 73,
   "metadata": {},
   "outputs": [
    {
     "name": "stdout",
     "output_type": "stream",
     "text": [
      "Dimension of image (batch_size, img_size, img_size, channel) => (8, 240, 240, 1)\n",
      "\n",
      "Dimension of label (batch_size, img_size, img_size, channel) => (8, 240, 240, 1)\n"
     ]
    }
   ],
   "source": [
    "print(\"Dimension of image (batch_size, img_size, img_size, channel) =>\",image.shape)\n",
    "print()\n",
    "print(\"Dimension of label (batch_size, img_size, img_size, channel) =>\",label.shape)"
   ]
  },
  {
   "cell_type": "code",
   "execution_count": 68,
   "metadata": {
    "scrolled": true
   },
   "outputs": [
    {
     "data": {
      "text/plain": [
       "<matplotlib.image.AxesImage at 0x7f158812cb38>"
      ]
     },
     "execution_count": 68,
     "metadata": {},
     "output_type": "execute_result"
    },
    {
     "data": {
      "image/png": "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\n",
      "text/plain": [
       "<Figure size 432x288 with 1 Axes>"
      ]
     },
     "metadata": {},
     "output_type": "display_data"
    }
   ],
   "source": [
    "plt.imshow(tf.squeeze(image[2]), cmap = 'gray')"
   ]
  },
  {
   "cell_type": "code",
   "execution_count": 69,
   "metadata": {},
   "outputs": [
    {
     "data": {
      "text/plain": [
       "<matplotlib.image.AxesImage at 0x7f1588084208>"
      ]
     },
     "execution_count": 69,
     "metadata": {},
     "output_type": "execute_result"
    },
    {
     "data": {
      "image/png": "iVBORw0KGgoAAAANSUhEUgAAAQUAAAD8CAYAAAB+fLH0AAAABHNCSVQICAgIfAhkiAAAAAlwSFlzAAALEgAACxIB0t1+/AAAADl0RVh0U29mdHdhcmUAbWF0cGxvdGxpYiB2ZXJzaW9uIDIuMi4zLCBodHRwOi8vbWF0cGxvdGxpYi5vcmcvIxREBQAADN1JREFUeJzt3U+sXOV9xvHvUwgsEiRwKMgybiGRF6UbYl1RpERRumgCbEwWqegGq4rkLEBKpHbhNIuybaWkEmqK5CgopkqhSAnCi/4JsiLRDQQ7IsbEBZyEhhtbtiIqglopCfDrYs4t85r7Z+69M3POXH8/0tE58953Zn4+nvPM+545d26qCkla8Tt9FyBpWAwFSQ1DQVLDUJDUMBQkNQwFSY2ZhUKSO5O8nORsksOzeh5J05VZXKeQ5ArgFeBPgGXgeeDPqurHU38ySVM1q5HC7cDZqvppVf0GeBw4MKPnkjRFV87ocfcAr4/dXgb+aK3OSbysUpq9X1bV727UaVahkFXamgM/ySHg0IyeX9L7/dcknWYVCsvA3rHbNwHnxjtU1RHgCDhSkIZkVucUngf2JbklyVXAvcCxGT2XpCmayUihqt5O8gDw78AVwCNV9dIsnkvSdM3kI8lNF+H0QZqHk1W1tFEnr2iU1DAUJDUMBUkNQ0FSw1CQ1DAUJDUMBUkNQ0FSw1CQ1DAUJDUMBUkNQ0FSw1CQ1DAUJDUMBUkNQ0FSw1CQ1DAUJDUMBUkNQ0FSw1CQ1DAUJDUMBUkNQ0FSw1CQ1DAUJDUMBUkNQ0FSw1CQ1DAUJDUMBUkNQ0FSw1CQ1DAUJDUMBUkNQ0FS48rt3DnJa8BbwDvA21W1lGQX8M/AzcBrwJ9W1X9vr0xJ8zKNkcIfV9VtVbXU3T4MHK+qfcDx7rakBTGL6cMB4Gi3fRS4ZwbPIWlGthsKBXwvyckkh7q2G6vqPEC3vmGbzyFpjrZ1TgH4eFWdS3ID8HSS/5z0jl2IHNqwo6S52tZIoarOdeuLwJPA7cCFJLsBuvXFNe57pKqWxs5FSBqALYdCkg8muWZlG/g0cBo4Bhzsuh0EntpukZLmZzvThxuBJ5OsPM4/VdW/JXkeeCLJ54GfA5/bfpmS5iVV1XcNJOm/CGnnOznJdN0rGiU1DAVJDUNBUsNQkNQwFCQ1DAVJDUNBUsNQkNQwFCQ1DAVJDUNBUsNQkNQwFCQ1DAVJDUNBUsNQkNQwFCQ1DAVJDUNBUsNQkNQwFCQ1DAVJDUNBUsNQkNQwFCQ1DAVJDUNBUsNQkNQwFCQ1DAVJDUNBUsNQkNQwFCQ1DAVJDUNBUsNQkNQwFCQ1NgyFJI8kuZjk9FjbriRPJ3m1W1/XtSfJQ0nOJjmVZP8si5c0fZOMFL4F3HlJ22HgeFXtA453twHuAvZ1yyHg4emUKWleNgyFqnoGeOOS5gPA0W77KHDPWPujNfIscG2S3dMqVtLsbfWcwo1VdR6gW9/Qte8BXh/rt9y1vU+SQ0lOJDmxxRokzcCVU368rNJWq3WsqiPAEYAkq/aRNH9bHSlcWJkWdOuLXfsysHes303Aua2XJ2nethoKx4CD3fZB4Kmx9vu6TyHuAN5cmWZIWhBVte4CPAacB37LaCTweeDDjD51eLVb7+r6Bvg68BPgRWBpo8fv7lcuLi4zX05McjymOyh75TkFaS5OVtXSRp28olFSw1CQ1DAUJDUMBUkNQ0FSw1CQ1DAUJDUMBUkNQ0FSw1CQ1DAUJDUMBUkNQ0FSw1CQ1DAUJDUMBUkNQ0FSw1CQ1DAUJDUMBUkNQ2GKLvmGaobwpbjSZk37L0RdllY7+NcLhmS1P6QlDYMjhR44gtCQGQrbtNUDfL3RhdQnpw/bsN2DePz+Tik0FI4Utmja7+qTPN60+kjrMRQkNZw+bNFqw/1pvEuv9xhrTTEuvU9VOR3RlhkKC2QzoWMwaKucPkhqGApTlGRQ786edNRWOH3Y4YZ2RaXTmuEzFKZoUd6Z+z4wN7OfDJD5c/pwmVqkANN8OVLYIVbeUSc5iPp6993uJeGOGubDkcIOsNbB4kGkrdgwFJI8kuRiktNjbQ8m+UWSF7rl7rGffTnJ2SQvJ/nMrArX6lY+AVkJhKF9IrIdTiXmY5KRwreAO1dp/7uquq1b/gUgya3AvcAfdvf5hyRXTKvYoRs/IOd1IE76PPOua1bGv8jGkJiNDUOhqp4B3pjw8Q4Aj1fVr6vqZ8BZ4PZt1LfQZn0ALvoBPg0Gw/Rt55zCA0lOddOL67q2PcDrY32Wu7bLlgeuFs1WQ+Fh4KPAbcB54Ktd+2pHwKpRnuRQkhNJTmyxhoWxE4bt2+U7+uLYUihU1YWqeqeq3gW+wXtThGVg71jXm4BzazzGkapaqqqlrdSwiC73YNBi2FIoJNk9dvOzwMonE8eAe5NcneQWYB/wg+2VuLOsFwybDY1FOdm2CDXqPRtevJTkMeBTwPVJloG/Bj6V5DZGU4PXgC8AVNVLSZ4Afgy8DdxfVe/MpvSdYzwMNnMRkjQLGcKLL0n/RQzQpP83Q52WzOu1NdR//wCdnGS67hWNA+aLXX3wdx80NUMYdWr7DIWBS7LmwbYov/48a33/KvhO4/RhAVz6gu/7uochBcKKIda0qBwpLIghvBN64F0eDAXN3bQ/dh1CYO4khoJ6s9bfzvBajX4ZCtrQPN/RfdfvnycaNVh9n1C9XDlS0Mx4QC8mRwoavPGvltPsGQqSGoaCFoKjhfkxFCQ1DAVJDUNBExnSsH2nfF39UBkK2tCQ5/NDrGnRGQralM388RktJkNBUsNQ0KZtNJ93lLDYDAVt2ZDPNWjr/N0HbYvBsPM4UpDUMBQkNQwFSQ1DQVLDUJDUMBQkNQwFSQ1DQVLDUJDUMBQkNQwFSQ1DQVLDUJDUMBQkNTYMhSR7k3w/yZkkLyX5Yte+K8nTSV7t1td17UnyUJKzSU4l2T/rf4Sk6ZlkpPA28BdV9QfAHcD9SW4FDgPHq2ofcLy7DXAXsK9bDgEPT71qSTOzYShU1fmq+mG3/RZwBtgDHACOdt2OAvd02weAR2vkWeDaJLunXrmkmdjUOYUkNwMfA54Dbqyq8zAKDuCGrtse4PWxuy13bZIWwMRfx5bkQ8B3gC9V1a/W+fqt1X5QqzzeIUbTC0kDMtFIIckHGAXCt6vqu13zhZVpQbe+2LUvA3vH7n4TcO7Sx6yqI1W1VFVLWy1e0vRN8ulDgG8CZ6rqa2M/OgYc7LYPAk+Ntd/XfQpxB/DmyjRD0vCl6n0j+7ZD8gngP4AXgXe75r9idF7hCeD3gJ8Dn6uqN7oQ+XvgTuB/gT+vqhMbPMf6RUiahpOTjMw3DIV5MBSkuZgoFLyiUVLDUJDUMBQkNQwFSQ1DQVLDUJDUMBQkNQwFSQ1DQVLDUJDUMBQkNQwFSQ1DQVLDUJDUMBQkNQwFSQ1DQVLDUJDUMBQkNQwFSQ1DQVLDUJDUMBQkNQwFSQ1DQVLDUJDUMBQkNQwFSQ1DQVLDUJDUMBQkNa7su4DOL4H/6daL5HqseV4Wse6h1fz7k3RKVc26kIkkOVFVS33XsRnWPD+LWPci1gxOHyRdwlCQ1BhSKBzpu4AtsOb5WcS6F7Hm4ZxTkDQMQxopSBqA3kMhyZ1JXk5yNsnhvutZS5LXkryY5IUkJ7q2XUmeTvJqt75uAHU+kuRiktNjbavWmZGHun1/Ksn+AdX8YJJfdPv7hSR3j/3sy13NLyf5TE81703y/SRnkryU5Itd+6D39USqqrcFuAL4CfAR4CrgR8Ctfda0Tq2vAddf0va3wOFu+zDwNwOo85PAfuD0RnUCdwP/CgS4A3huQDU/CPzlKn1v7V4nVwO3dK+fK3qoeTewv9u+Bnilq23Q+3qSpe+Rwu3A2ar6aVX9BngcONBzTZtxADjabR8F7umxFgCq6hngjUua16rzAPBojTwLXJtk93wqfc8aNa/lAPB4Vf26qn4GnGX0OpqrqjpfVT/stt8CzgB7GPi+nkTfobAHeH3s9nLXNkQFfC/JySSHurYbq+o8jF4kwA29Vbe+teoc+v5/oBtqPzI2NRtczUluBj4GPMfi7uv/13coZJW2oX4c8vGq2g/cBdyf5JN9FzQFQ97/DwMfBW4DzgNf7doHVXOSDwHfAb5UVb9ar+sqbUPZ142+Q2EZ2Dt2+ybgXE+1rKuqznXri8CTjIasF1aGgN36Yn8VrmutOge7/6vqQlW9U1XvAt/gvSnCYGpO8gFGgfDtqvpu17xw+/pSfYfC88C+JLckuQq4FzjWc03vk+SDSa5Z2QY+DZxmVOvBrttB4Kl+KtzQWnUeA+7rzozfAby5MvTt2yXz7c8y2t8wqvneJFcnuQXYB/ygh/oCfBM4U1VfG/vRwu3r9+n7TCejs7KvMDqL/JW+61mjxo8wOuP9I+CllTqBDwPHgVe79a4B1PoYo+H2bxm9O31+rToZDWm/3u37F4GlAdX8j11NpxgdULvH+n+lq/ll4K6eav4Eo+H/KeCFbrl76Pt6ksUrGiU1+p4+SBoYQ0FSw1CQ1DAUJDUMBUkNQ0FSw1CQ1DAUJDX+D15LrKkJZrK1AAAAAElFTkSuQmCC\n",
      "text/plain": [
       "<Figure size 432x288 with 1 Axes>"
      ]
     },
     "metadata": {},
     "output_type": "display_data"
    }
   ],
   "source": [
    "plt.imshow(tf.squeeze(label[2]), cmap = 'gray')"
   ]
  },
  {
   "cell_type": "markdown",
   "metadata": {},
   "source": [
    "---"
   ]
  },
  {
   "cell_type": "markdown",
   "metadata": {},
   "source": [
    "# References"
   ]
  },
  {
   "cell_type": "markdown",
   "metadata": {},
   "source": [
    "- https://gist.github.com/yinguobing/3b24c1c4ba0a792a7866c8197818c4f5 \n",
    "- https://towardsdatascience.com/working-with-tfrecords-and-tf-train-example-36d111b3ff4d\n",
    "- https://medium.com/@moritzkrger/speeding-up-keras-with-tfrecord-datasets-5464f9836c36\n",
    "- http://warmspringwinds.github.io/tensorflow/tf-slim/2016/12/21/tfrecords-guide/"
   ]
  }
 ],
 "metadata": {
  "kernelspec": {
   "display_name": "Python 3",
   "language": "python",
   "name": "python3"
  },
  "language_info": {
   "codemirror_mode": {
    "name": "ipython",
    "version": 3
   },
   "file_extension": ".py",
   "mimetype": "text/x-python",
   "name": "python",
   "nbconvert_exporter": "python",
   "pygments_lexer": "ipython3",
   "version": "3.7.3"
  }
 },
 "nbformat": 4,
 "nbformat_minor": 2
}
