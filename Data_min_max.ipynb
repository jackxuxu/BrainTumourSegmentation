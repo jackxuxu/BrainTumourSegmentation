{
 "cells": [
  {
   "cell_type": "code",
   "execution_count": 1,
   "metadata": {},
   "outputs": [],
   "source": [
    "import numpy as np \n",
    "import matplotlib.pyplot as plt \n",
    "import os \n",
    "import glob \n",
    "import medpy.io\n",
    "%matplotlib inline"
   ]
  },
  {
   "cell_type": "code",
   "execution_count": 2,
   "metadata": {},
   "outputs": [],
   "source": [
    "def create_data(in_path, out_path, verbose = True, min_max_norm = False, swapaxes = False, split_labels = True):\n",
    "    total_patients = []\n",
    "    #directory for training and testing \n",
    "    for d_00 in sorted(os.listdir(in_path)):\n",
    "        #ignore zip files \n",
    "        if not d_00.endswith('.zip'):\n",
    "            print(d_00)\n",
    "            merge_d00 = os.path.join(in_path + d_00)\n",
    "        #skip the loop for .zip extension \n",
    "        else:\n",
    "            continue\n",
    "        #create file directory [Training, Testing]\n",
    "        save_path_01 = (out_path+d_00+'/')\n",
    "        if not os.path.exists(save_path_01):\n",
    "            os.makedirs(save_path_01)\n",
    "\n",
    "        # training or testing > hgg or lgg\n",
    "        for d_01 in sorted(os.listdir(merge_d00)):\n",
    "            print(' ->',d_01)\n",
    "            merge_d01 = os.path.join(merge_d00+'/'+d_01)\n",
    "            patient_counts = 0\n",
    "            #create file directory [HGG, LGG]\n",
    "            save_path_02 = (save_path_01+d_01+'/')\n",
    "            if not os.path.exists(save_path_02):\n",
    "                os.makedirs(save_path_02)\n",
    "\n",
    "            for steps_01, d_02 in enumerate(sorted(os.listdir(merge_d01))):\n",
    "                break_01 = 0\n",
    "                #debug\n",
    "                #list only the first dir\n",
    "                if steps_01==0:\n",
    "                    break_01 = 1 \n",
    "                    print('  -->', d_02) #patient name\n",
    "                #\n",
    "                patient_counts+=1\n",
    "                merge_d02 = os.path.join(merge_d01+'/'+d_02)\n",
    "\n",
    "                multimodal_name_list = []\n",
    "                for steps_02, d_03 in enumerate(sorted(os.listdir(merge_d02))):\n",
    "                    #create file \n",
    "                    multimodal_file_name = d_03.split('.')[-2] #MR_Flair, T2,..\n",
    "                    multimodal_name_list.append(multimodal_file_name)\n",
    "                    save_path_03 = (save_path_02+multimodal_file_name+'/')\n",
    "                    if not os.path.exists(save_path_03):\n",
    "                        os.makedirs(save_path_03)\n",
    "                    #debug\n",
    "                    #list only the first dir\n",
    "                    if break_01==1 and steps_02 != 5:\n",
    "                        print('   --->', d_03) #multimodal\n",
    "                    #\n",
    "                    merge_d03 = os.path.join(merge_d02+'/'+d_03)\n",
    "                    #read files with wild card .mha ending\n",
    "                    med_img = glob.glob('{}/*.mha'.format(merge_d03)) #return list!\n",
    "                    save_path_04 = (save_path_02+multimodal_file_name+'/')\n",
    "                    for mha in med_img:\n",
    "                        read_med_img, _ = medpy.io.load(mha)\n",
    "                        \n",
    "                    #min max normalization switch, label 'OT' not included\n",
    "                    if multimodal_file_name!= 'OT' and min_max_norm==True:\n",
    "                        norm_list = []\n",
    "                        for i in range(read_med_img.shape[-1]): #last channel is the slices \n",
    "                            max_val = np.max(read_med_img[:,:,i])\n",
    "                            min_val = np.min(read_med_img[:,:,i])\n",
    "                            norm = (read_med_img[:,:,i] - min_val)/(max_val-min_val)\n",
    "                            norm_list.append(norm)\n",
    "\n",
    "                        read_med_img = np.array(norm_list) #shape(155,240,240)\n",
    "                        read_med_img = np.nan_to_num(read_med_img) #at times, max = 0, min = 0\n",
    "                        if swapaxes==True: #=>(240, 240, 155)\n",
    "                            read_med_img = np.swapaxes(read_med_img, 0,1)\n",
    "                            read_med_img = np.swapaxes(read_med_img, 1,2)\n",
    "                    #file name => e.g. MR_Flair_brats_2013_pat0103_1.npy (multimodal + patient name)\n",
    "                    np.save(save_path_04+'{}_{}.npy'.format(multimodal_file_name, d_02), read_med_img)        \n",
    "    #                 plt.imshow(read_med_img[:,:,20], cmap = 'gray')\n",
    "    #                 plt.show()\n",
    "            if verbose==True:\n",
    "                print('*Number of patients: {}'.format(patient_counts))\n",
    "                total_patients.append(patient_counts)\n",
    "                print()\n",
    "                \n",
    "    if verbose==True:\n",
    "        print()\n",
    "        n_slices = 155\n",
    "        t_patients = np.sum(total_patients)\n",
    "        print('[Summary]')\n",
    "        print('Total number of patients: {}'.format(t_patients))\n",
    "        print('Total number of 2D images: {}'.format(t_patients*n_slices))\n",
    "        print('  |_ Training: {}'.format((t_patients-total_patients[0])*n_slices))\n",
    "        print('  |_ Testing: {}'.format(total_patients[0]*n_slices))"
   ]
  },
  {
   "cell_type": "code",
   "execution_count": 3,
   "metadata": {
    "scrolled": true
   },
   "outputs": [
    {
     "name": "stdout",
     "output_type": "stream",
     "text": [
      "BRATS2015_Testing\n",
      " -> HGG_LGG\n",
      "  --> brats_2013_pat0103_1\n",
      "   ---> VSD.Brain.XX.O.MR_Flair.54193\n"
     ]
    },
    {
     "name": "stderr",
     "output_type": "stream",
     "text": [
      "/home/kevinteng/anaconda3/lib/python3.6/site-packages/ipykernel_launcher.py:64: RuntimeWarning: invalid value encountered in true_divide\n"
     ]
    },
    {
     "name": "stdout",
     "output_type": "stream",
     "text": [
      "   ---> VSD.Brain.XX.O.MR_T1.54194\n",
      "   ---> VSD.Brain.XX.O.MR_T1c.54195\n",
      "   ---> VSD.Brain.XX.O.MR_T2.54196\n",
      "*Number of patients: 110\n",
      "\n",
      "BRATS2015_Training\n",
      " -> HGG\n",
      "  --> brats_2013_pat0001_1\n",
      "   ---> VSD.Brain.XX.O.MR_Flair.54512\n",
      "   ---> VSD.Brain.XX.O.MR_T1.54513\n",
      "   ---> VSD.Brain.XX.O.MR_T1c.54514\n",
      "   ---> VSD.Brain.XX.O.MR_T2.54515\n",
      "   ---> VSD.Brain_3more.XX.O.OT.54517\n",
      "*Number of patients: 220\n",
      "\n",
      " -> LGG\n",
      "  --> brats_2013_pat0001_1\n",
      "   ---> VSD.Brain.XX.O.MR_Flair.54632\n",
      "   ---> VSD.Brain.XX.O.MR_T1.54633\n",
      "   ---> VSD.Brain.XX.O.MR_T1c.54634\n",
      "   ---> VSD.Brain.XX.O.MR_T2.54635\n",
      "   ---> VSD.Brain_3more.XX.O.OT.54637\n",
      "*Number of patients: 54\n",
      "\n",
      "\n",
      "[Summary]\n",
      "Total number of patients: 384\n",
      "Total number of 2D images: 59520\n",
      "  |_ Training: 42470\n",
      "  |_ Testing: 17050\n"
     ]
    }
   ],
   "source": [
    "in_path = '/home/kevinteng/Desktop/BRATS2015/'\n",
    "out_path = '/home/kevinteng/Desktop/BRATS_Pre/'\n",
    "create_data(in_path, out_path, verbose = True, min_max_norm = True, swapaxes = True)"
   ]
  },
  {
   "cell_type": "markdown",
   "metadata": {},
   "source": [
    "----"
   ]
  },
  {
   "cell_type": "markdown",
   "metadata": {},
   "source": [
    "# Sanity Check"
   ]
  },
  {
   "cell_type": "code",
   "execution_count": 22,
   "metadata": {},
   "outputs": [
    {
     "data": {
      "text/plain": [
       "<matplotlib.image.AxesImage at 0x7f0d65676c88>"
      ]
     },
     "execution_count": 22,
     "metadata": {},
     "output_type": "execute_result"
    },
    {
     "data": {
      "image/png": "[encoded data removed]",
      "text/plain": [
       "<Figure size 432x288 with 1 Axes>"
      ]
     },
     "metadata": {},
     "output_type": "display_data"
    }
   ],
   "source": [
    "tmp_path = '/home/kevinteng/Desktop/OT_brats_2013_pat0001_1.npy'\n",
    "\n",
    "img = np.load(tmp_path)\n",
    "plt.imshow(img[:,:,50], cmap = 'gray')"
   ]
  },
  {
   "cell_type": "code",
   "execution_count": 23,
   "metadata": {},
   "outputs": [
    {
     "name": "stdout",
     "output_type": "stream",
     "text": [
      "0\n",
      "4\n"
     ]
    }
   ],
   "source": [
    "print(np.min(img))\n",
    "print(np.max(img))"
   ]
  },
  {
   "cell_type": "code",
   "execution_count": 24,
   "metadata": {},
   "outputs": [],
   "source": [
    "core = np.where((img==1) | (img==3), img, 0)\n",
    "enhancing_tumor = np.where(img==4, img, 0)\n",
    "complete_tumor = np.where(img<=1, img, 1 )"
   ]
  },
  {
   "cell_type": "code",
   "execution_count": 25,
   "metadata": {},
   "outputs": [],
   "source": [
    "label_plot = np.array([core[:,:,50], enhancing_tumor[:,:,50], complete_tumor[:,:,50]])"
   ]
  },
  {
   "cell_type": "code",
   "execution_count": 26,
   "metadata": {
    "scrolled": false
   },
   "outputs": [
    {
     "data": {
      "image/png": "[encoded data removed]",
      "text/plain": [
       "<Figure size 432x288 with 1 Axes>"
      ]
     },
     "metadata": {},
     "output_type": "display_data"
    },
    {
     "data": {
      "image/png": "[encoded data removed]",
      "text/plain": [
       "<Figure size 432x288 with 1 Axes>"
      ]
     },
     "metadata": {},
     "output_type": "display_data"
    },
    {
     "data": {
      "image/png": "[encoded data removed]",
      "text/plain": [
       "<Figure size 432x288 with 1 Axes>"
      ]
     },
     "metadata": {},
     "output_type": "display_data"
    }
   ],
   "source": [
    "for img in label_plot:\n",
    "    plt.imshow(img, cmap = 'gray')\n",
    "    plt.show()"
   ]
  },
  {
   "cell_type": "markdown",
   "metadata": {},
   "source": [
    "----"
   ]
  },
  {
   "cell_type": "markdown",
   "metadata": {},
   "source": [
    "# Split Labels"
   ]
  },
  {
   "cell_type": "markdown",
   "metadata": {},
   "source": [
    "Labels: \n",
    "- 0 => Non Tumor Tissue\n",
    "- 1 => Necrosis\n",
    "- 2 => Edema\n",
    "- 3 => Non-enhancing Tumor \n",
    "- 4 => Enhancing Tumor"
   ]
  },
  {
   "cell_type": "markdown",
   "metadata": {},
   "source": [
    "Tumor Segmentation:\n",
    "- Label 1+3 => Core\n",
    "- Label 4 => Enhancing Tumor\n",
    "- Label 1+2+3+4 => Complete Tumor"
   ]
  },
  {
   "cell_type": "code",
   "execution_count": 9,
   "metadata": {},
   "outputs": [],
   "source": [
    "training_hgg_label = '/home/kevinteng/Desktop/BRATS_Pre/BRATS2015_Training/HGG/OT/'\n",
    "training_lgg_label = '/home/kevinteng/Desktop/BRATS_Pre/BRATS2015_Training/LGG/OT/'\n",
    "desktop_hgg_path = '/home/kevinteng/Desktop/BRAT_lbl/HGG/'\n",
    "desktop_lgg_path = '/home/kevinteng/Desktop/BRAT_lbl/LGG/'"
   ]
  },
  {
   "cell_type": "code",
   "execution_count": 12,
   "metadata": {},
   "outputs": [],
   "source": [
    "def split_labels(inp_path, out_path):\n",
    "    for lbls in sorted(os.listdir(inp_path)):\n",
    "        patient_tag = lbls.split('.')[0]\n",
    "        npy_path = os.path.join(inp_path+'/'+lbls)\n",
    "        labels = np.load(npy_path)\n",
    "        #labels path\n",
    "        core_path = out_path+'core/'\n",
    "        enhancing_tumor_path = out_path+'enhancing_tumor/'\n",
    "        complete_tumor_path = out_path+'complete_tumor/'\n",
    "\n",
    "        #core\n",
    "        if not os.path.exists(core_path):\n",
    "            os.makedirs(core_path)\n",
    "        core = np.where((labels==1) | (labels==3), labels, 0)\n",
    "        np.save(core_path+'core_{}.npy'.format(patient_tag), core)\n",
    "        #enhancing tumor\n",
    "        if not os.path.exists(enhancing_tumor_path):\n",
    "            os.makedirs(enhancing_tumor_path)\n",
    "        enhancing_tumor = np.where(labels==4, labels, 0)\n",
    "        np.save(enhancing_tumor_path+'enhancing_tumor_{}.npy'.format(patient_tag), enhancing_tumor)\n",
    "\n",
    "        #complete tumor\n",
    "        if not os.path.exists(complete_tumor_path):\n",
    "            os.makedirs(complete_tumor_path)\n",
    "        complete_tumor = np.where(labels<=1, labels, 1 )\n",
    "        np.save(complete_tumor_path+'complete_tumor_{}.npy'.format(patient_tag), complete_tumor)\n",
    "    "
   ]
  },
  {
   "cell_type": "code",
   "execution_count": 13,
   "metadata": {},
   "outputs": [],
   "source": [
    "split_labels(training_hgg_label, desktop_hgg_path)\n",
    "split_labels(training_lgg_label, desktop_lgg_path)"
   ]
  },
  {
   "cell_type": "markdown",
   "metadata": {},
   "source": [
    "----"
   ]
  },
  {
   "cell_type": "markdown",
   "metadata": {},
   "source": [
    "# Sanity Check"
   ]
  },
  {
   "cell_type": "code",
   "execution_count": 21,
   "metadata": {},
   "outputs": [
    {
     "data": {
      "text/plain": [
       "<matplotlib.image.AxesImage at 0x7f0d65723ac8>"
      ]
     },
     "execution_count": 21,
     "metadata": {},
     "output_type": "execute_result"
    },
    {
     "data": {
      "image/png": "[encoded data removed]",
      "text/plain": [
       "<Figure size 432x288 with 1 Axes>"
      ]
     },
     "metadata": {},
     "output_type": "display_data"
    }
   ],
   "source": [
    "test_img = np.load('/home/kevinteng/Desktop/BRAT_lbl/HGG/complete_tumor/complete_tumor_OT_brats_2013_pat0002_1.npy')\n",
    "plt.imshow(test_img[:,:,100], cmap='gray')"
   ]
  }
 ],
 "metadata": {
  "kernelspec": {
   "display_name": "Python 3",
   "language": "python",
   "name": "python3"
  },
  "language_info": {
   "codemirror_mode": {
    "name": "ipython",
    "version": 3
   },
   "file_extension": ".py",
   "mimetype": "text/x-python",
   "name": "python",
   "nbconvert_exporter": "python",
   "pygments_lexer": "ipython3",
   "version": "3.7.3"
  }
 },
 "nbformat": 4,
 "nbformat_minor": 2
}
