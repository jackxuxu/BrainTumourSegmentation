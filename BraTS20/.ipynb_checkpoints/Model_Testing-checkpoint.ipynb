{
 "cells": [
  {
   "cell_type": "code",
   "execution_count": 1,
   "metadata": {},
   "outputs": [
    {
     "name": "stderr",
     "output_type": "stream",
     "text": [
      "/home/kevinteng/anaconda3/lib/python3.6/site-packages/tensorboard/compat/tensorflow_stub/dtypes.py:541: FutureWarning: Passing (type, 1) or '1type' as a synonym of type is deprecated; in a future version of numpy, it will be understood as (type, (1,)) / '(1,)type'.\n",
      "  _np_qint8 = np.dtype([(\"qint8\", np.int8, 1)])\n",
      "/home/kevinteng/anaconda3/lib/python3.6/site-packages/tensorboard/compat/tensorflow_stub/dtypes.py:542: FutureWarning: Passing (type, 1) or '1type' as a synonym of type is deprecated; in a future version of numpy, it will be understood as (type, (1,)) / '(1,)type'.\n",
      "  _np_quint8 = np.dtype([(\"quint8\", np.uint8, 1)])\n",
      "/home/kevinteng/anaconda3/lib/python3.6/site-packages/tensorboard/compat/tensorflow_stub/dtypes.py:543: FutureWarning: Passing (type, 1) or '1type' as a synonym of type is deprecated; in a future version of numpy, it will be understood as (type, (1,)) / '(1,)type'.\n",
      "  _np_qint16 = np.dtype([(\"qint16\", np.int16, 1)])\n",
      "/home/kevinteng/anaconda3/lib/python3.6/site-packages/tensorboard/compat/tensorflow_stub/dtypes.py:544: FutureWarning: Passing (type, 1) or '1type' as a synonym of type is deprecated; in a future version of numpy, it will be understood as (type, (1,)) / '(1,)type'.\n",
      "  _np_quint16 = np.dtype([(\"quint16\", np.uint16, 1)])\n",
      "/home/kevinteng/anaconda3/lib/python3.6/site-packages/tensorboard/compat/tensorflow_stub/dtypes.py:545: FutureWarning: Passing (type, 1) or '1type' as a synonym of type is deprecated; in a future version of numpy, it will be understood as (type, (1,)) / '(1,)type'.\n",
      "  _np_qint32 = np.dtype([(\"qint32\", np.int32, 1)])\n",
      "/home/kevinteng/anaconda3/lib/python3.6/site-packages/tensorboard/compat/tensorflow_stub/dtypes.py:550: FutureWarning: Passing (type, 1) or '1type' as a synonym of type is deprecated; in a future version of numpy, it will be understood as (type, (1,)) / '(1,)type'.\n",
      "  np_resource = np.dtype([(\"resource\", np.ubyte, 1)])\n"
     ]
    }
   ],
   "source": [
    "import sys\n",
    "import time\n",
    "sys.path.append('/home/kevinteng/Desktop/BrainTumourSegmentation')\n",
    "import numpy as np \n",
    "import tensorflow as tf\n",
    "import matplotlib.pyplot as plt\n",
    "import os, random\n",
    "import utils\n",
    "from utils_vis import plot_comparison, plot_labels_color \n",
    "from utils import dice_coef, ss_metric, compute_metric\n",
    "import nibabel as nib\n",
    "%matplotlib inline"
   ]
  },
  {
   "cell_type": "code",
   "execution_count": 2,
   "metadata": {},
   "outputs": [],
   "source": [
    "SHUFFLE_BUFFER = 4000\n",
    "max_epochs = 30\n",
    "BATCH_SIZE = 24\n",
    "lr = 0.00001\n",
    "opt = tf.keras.optimizers.Adam(lr)\n",
    "ver = 'DeepSupervisedAttentionUNet02' #save version \n",
    "dropout=0.3 #dropout rate\n",
    "hn = 'he_normal' #kernel initializer "
   ]
  },
  {
   "cell_type": "code",
   "execution_count": 3,
   "metadata": {},
   "outputs": [],
   "source": [
    "from utils_model import conv_block, coordconv_block, up, pool, attention_block\n",
    "from tensorflow.keras import Model\n",
    "from tensorflow.keras.layers import Input, Conv2D, UpSampling2D, Activation, Add, Multiply, GaussianNoise\n",
    "\n",
    "def AttUnet_model(input_layer, attention_mode='grid'):\n",
    "    gauss1 = GaussianNoise(0.01)(input_layer)\n",
    "    #downsampling path\n",
    "    conv1 = conv_block(gauss1, filters=64, kernel_initializer=hn)\n",
    "    pool1 = pool(conv1)\n",
    "    \n",
    "    conv2 = conv_block(pool1, filters=128, kernel_initializer=hn)\n",
    "    pool2 = pool(conv2)\n",
    "    \n",
    "    conv3 = conv_block(pool2, filters=256, kernel_initializer=hn)\n",
    "    pool3 = pool(conv3)\n",
    "    \n",
    "    conv4 = conv_block(pool3, filters=512, kernel_initializer=hn, dropout_rate = dropout)\n",
    "    pool4 = pool(conv4)\n",
    "    \n",
    "    conv5 = conv_block(pool4, filters=1024, kernel_initializer=hn, dropout_rate = dropout)\n",
    "    \n",
    "    #upsampling path\n",
    "    att01 = attention_block(conv4, conv5, 512)\n",
    "    up1 = up(conv5,filters=512, merge=att01, kernel_initializer=hn)\n",
    "    conv6 = conv_block(up1, filters=512, kernel_initializer=hn)\n",
    "    \n",
    "    if attention_mode=='grid':\n",
    "        att02 = attention_block(conv3, conv6, 256)\n",
    "    else:\n",
    "        att02 = attention_block(conv3, conv4, 256)\n",
    "    up2 = up(conv6, filters=256, merge=att02, kernel_initializer=hn)\n",
    "    conv7 = conv_block(up2, filters=256, kernel_initializer=hn)\n",
    "    #injection block 1\n",
    "    seg01 = Conv2D(4,(1,1),padding='same')(conv7)\n",
    "    up_seg01 = UpSampling2D()(seg01)\n",
    "    \n",
    "    if attention_mode=='grid':\n",
    "        att03 = attention_block(conv2, conv7, 128)\n",
    "    else:\n",
    "        att03 = attention_block(conv2, conv3, 128)\n",
    "    up3 = up(conv7, filters=128, merge=att03, kernel_initializer=hn)\n",
    "    conv8 = conv_block(up3, filters=128, kernel_initializer=hn)\n",
    "    #injection block 2\n",
    "    seg02 = Conv2D(4,(1,1),padding='same')(conv8)\n",
    "    add_21 = Add()([seg02, up_seg01])\n",
    "    up_seg02 = UpSampling2D()(add_21)\n",
    "    \n",
    "    if attention_mode=='grid':\n",
    "        att04 = attention_block(conv1, conv8, 64)\n",
    "    else:\n",
    "        att04 = attention_block(conv1, conv2, 64)\n",
    "    up4 = up(conv8, filters=64, merge=att04, kernel_initializer=hn)\n",
    "    conv9 = conv_block(up4, filters=64, kernel_initializer=hn)\n",
    "    #injection block 3\n",
    "    seg03 = Conv2D(4,(1,1),padding='same')(conv9)\n",
    "    add_32 = Add()([seg03, up_seg02])\n",
    "    \n",
    "    output_layer = Conv2D(4, (1,1), activation = 'softmax')(add_32)\n",
    "    \n",
    "    return output_layer"
   ]
  },
  {
   "cell_type": "code",
   "execution_count": 4,
   "metadata": {},
   "outputs": [],
   "source": [
    "input_layer = Input(shape=(240,240,4))\n",
    "model = Model(input_layer, AttUnet_model(input_layer))"
   ]
  },
  {
   "cell_type": "code",
   "execution_count": 5,
   "metadata": {},
   "outputs": [],
   "source": [
    "model.load_weights('/home/kevinteng/Desktop/model_weights/model_{}.h5'.format(ver))\n",
    "def val_fn(image):\n",
    "    model.trainable = False\n",
    "    model_output = model(image)\n",
    "    return model_output"
   ]
  },
  {
   "cell_type": "code",
   "execution_count": 6,
   "metadata": {},
   "outputs": [
    {
     "ename": "NameError",
     "evalue": "name 'merge01' is not defined",
     "output_type": "error",
     "traceback": [
      "\u001b[0;31m---------------------------------------------------------------------------\u001b[0m",
      "\u001b[0;31mNameError\u001b[0m                                 Traceback (most recent call last)",
      "\u001b[0;32m<ipython-input-6-507a643f2afc>\u001b[0m in \u001b[0;36m<module>\u001b[0;34m()\u001b[0m\n\u001b[1;32m     12\u001b[0m \u001b[0;32mfor\u001b[0m \u001b[0mpatient\u001b[0m \u001b[0;32min\u001b[0m \u001b[0msorted\u001b[0m\u001b[0;34m(\u001b[0m\u001b[0mos\u001b[0m\u001b[0;34m.\u001b[0m\u001b[0mlistdir\u001b[0m\u001b[0;34m(\u001b[0m\u001b[0mds\u001b[0m\u001b[0;34m)\u001b[0m\u001b[0;34m)\u001b[0m\u001b[0;34m:\u001b[0m\u001b[0;34m\u001b[0m\u001b[0m\n\u001b[1;32m     13\u001b[0m     \u001b[0mpatient_id\u001b[0m \u001b[0;34m=\u001b[0m \u001b[0mpatient\u001b[0m\u001b[0;34m.\u001b[0m\u001b[0msplit\u001b[0m\u001b[0;34m(\u001b[0m\u001b[0;34m'.'\u001b[0m\u001b[0;34m)\u001b[0m\u001b[0;34m[\u001b[0m\u001b[0;36m0\u001b[0m\u001b[0;34m]\u001b[0m\u001b[0;34m\u001b[0m\u001b[0m\n\u001b[0;32m---> 14\u001b[0;31m     \u001b[0mmerge02\u001b[0m \u001b[0;34m=\u001b[0m \u001b[0mos\u001b[0m\u001b[0;34m.\u001b[0m\u001b[0mpath\u001b[0m\u001b[0;34m.\u001b[0m\u001b[0mjoin\u001b[0m\u001b[0;34m(\u001b[0m\u001b[0mmerge01\u001b[0m\u001b[0;34m,\u001b[0m\u001b[0mpatient\u001b[0m\u001b[0;34m)\u001b[0m\u001b[0;34m\u001b[0m\u001b[0m\n\u001b[0m\u001b[1;32m     15\u001b[0m     \u001b[0mimgs\u001b[0m \u001b[0;34m=\u001b[0m \u001b[0mnp\u001b[0m\u001b[0;34m.\u001b[0m\u001b[0mload\u001b[0m\u001b[0;34m(\u001b[0m\u001b[0mmerge02\u001b[0m\u001b[0;34m)\u001b[0m\u001b[0;34m\u001b[0m\u001b[0m\n\u001b[1;32m     16\u001b[0m     \u001b[0mimage\u001b[0m \u001b[0;34m=\u001b[0m \u001b[0mimgs\u001b[0m\u001b[0;34m[\u001b[0m\u001b[0;34m:\u001b[0m\u001b[0;34m,\u001b[0m\u001b[0;34m:\u001b[0m\u001b[0;34m,\u001b[0m\u001b[0;34m:\u001b[0m\u001b[0;34m,\u001b[0m\u001b[0;34m:\u001b[0m\u001b[0;36m4\u001b[0m\u001b[0;34m]\u001b[0m\u001b[0;34m\u001b[0m\u001b[0m\n",
      "\u001b[0;31mNameError\u001b[0m: name 'merge01' is not defined"
     ]
    }
   ],
   "source": [
    "ds = '/home/kevinteng/Desktop/ssd02/BraTS2020_preprocessed03/Testing_pre'\n",
    "save_path = '/home/kevinteng/Desktop/ssd02/submission/'\n",
    "actual_label = '/home/kevinteng/Desktop/ssd02/MICCAI_BraTS2020_TrainingData/BraTS20_Training_001/BraTS20_Training_001_seg.nii.gz'\n",
    "#all brain affine are the same just pick one \n",
    "brain_affine = nib.load(actual_label).affine\n",
    "steps = 1\n",
    "acc_list = []\n",
    "\n",
    "save_dir = save_path + 'Testing_pre_'+ver\n",
    "if not os.path.exists(save_dir):\n",
    "    os.makedirs(save_dir)\n",
    "for patient in sorted(os.listdir(ds)):\n",
    "    patient_id = patient.split('.')[0]\n",
    "    merge02 = os.path.join(ds,patient)\n",
    "    imgs = np.load(merge02)\n",
    "    image = imgs[:,:,:,:4]\n",
    "    seg_output = 0 #flush RAM\n",
    "    seg_output = np.zeros((240,240,155))\n",
    "    for i in range(image.shape[0]):\n",
    "        inp = tf.expand_dims(image[i],0)\n",
    "        img_seg = val_fn(inp) #validation function \n",
    "        #map from sparse to label\n",
    "        seg_output[:,:,i] = np.argmax(img_seg,-1) \n",
    "    #convert label from 4 to 3 and np array and cast as int\n",
    "    seg_output= np.where(seg_output==3,4,seg_output).astype(np.uint8)\n",
    "    prediction_ni = nib.Nifti1Image(seg_output, brain_affine)\n",
    "    prediction_ni.to_filename(save_dir+'/{}.nii.gz'.format(patient_id))"
   ]
  }
 ],
 "metadata": {
  "kernelspec": {
   "display_name": "Python 3",
   "language": "python",
   "name": "python3"
  },
  "language_info": {
   "codemirror_mode": {
    "name": "ipython",
    "version": 3
   },
   "file_extension": ".py",
   "mimetype": "text/x-python",
   "name": "python",
   "nbconvert_exporter": "python",
   "pygments_lexer": "ipython3",
   "version": "3.6.6"
  }
 },
 "nbformat": 4,
 "nbformat_minor": 2
}
