{
 "cells": [
  {
   "cell_type": "code",
   "execution_count": 1,
   "metadata": {
    "scrolled": false
   },
   "outputs": [
    {
     "name": "stderr",
     "output_type": "stream",
     "text": [
      "/home/kevinteng/anaconda3/lib/python3.6/site-packages/tensorboard/compat/tensorflow_stub/dtypes.py:541: FutureWarning: Passing (type, 1) or '1type' as a synonym of type is deprecated; in a future version of numpy, it will be understood as (type, (1,)) / '(1,)type'.\n",
      "  _np_qint8 = np.dtype([(\"qint8\", np.int8, 1)])\n",
      "/home/kevinteng/anaconda3/lib/python3.6/site-packages/tensorboard/compat/tensorflow_stub/dtypes.py:542: FutureWarning: Passing (type, 1) or '1type' as a synonym of type is deprecated; in a future version of numpy, it will be understood as (type, (1,)) / '(1,)type'.\n",
      "  _np_quint8 = np.dtype([(\"quint8\", np.uint8, 1)])\n",
      "/home/kevinteng/anaconda3/lib/python3.6/site-packages/tensorboard/compat/tensorflow_stub/dtypes.py:543: FutureWarning: Passing (type, 1) or '1type' as a synonym of type is deprecated; in a future version of numpy, it will be understood as (type, (1,)) / '(1,)type'.\n",
      "  _np_qint16 = np.dtype([(\"qint16\", np.int16, 1)])\n",
      "/home/kevinteng/anaconda3/lib/python3.6/site-packages/tensorboard/compat/tensorflow_stub/dtypes.py:544: FutureWarning: Passing (type, 1) or '1type' as a synonym of type is deprecated; in a future version of numpy, it will be understood as (type, (1,)) / '(1,)type'.\n",
      "  _np_quint16 = np.dtype([(\"quint16\", np.uint16, 1)])\n",
      "/home/kevinteng/anaconda3/lib/python3.6/site-packages/tensorboard/compat/tensorflow_stub/dtypes.py:545: FutureWarning: Passing (type, 1) or '1type' as a synonym of type is deprecated; in a future version of numpy, it will be understood as (type, (1,)) / '(1,)type'.\n",
      "  _np_qint32 = np.dtype([(\"qint32\", np.int32, 1)])\n",
      "/home/kevinteng/anaconda3/lib/python3.6/site-packages/tensorboard/compat/tensorflow_stub/dtypes.py:550: FutureWarning: Passing (type, 1) or '1type' as a synonym of type is deprecated; in a future version of numpy, it will be understood as (type, (1,)) / '(1,)type'.\n",
      "  np_resource = np.dtype([(\"resource\", np.ubyte, 1)])\n"
     ]
    }
   ],
   "source": [
    "import tensorflow as tf\n",
    "import numpy as np \n",
    "import matplotlib.pyplot as plt\n",
    "import os \n",
    "import glob \n",
    "import pandas as pd\n",
    "import medpy.io\n",
    "from utils import plot_comparison \n",
    "%matplotlib inline"
   ]
  },
  {
   "cell_type": "markdown",
   "metadata": {},
   "source": [
    "---"
   ]
  },
  {
   "cell_type": "markdown",
   "metadata": {},
   "source": [
    "# Training and Validation Data"
   ]
  },
  {
   "cell_type": "code",
   "execution_count": 2,
   "metadata": {},
   "outputs": [],
   "source": [
    "#path \n",
    "storage_path = \"/home/kevinteng/Desktop/ssd02/\"\n",
    "#original \n",
    "training_ds_path = storage_path+\"MICCAI_BraTS2020_TrainingData/\"\n",
    "validation_ds_path = storage_path+\"MICCAI_BraTS2020_ValidationData/\"\n",
    "#preprocessed\n",
    "training_pre = storage_path+\"BraTS2020_preprocessed/Training_pre/\"\n",
    "validation_pre = storage_path+\"BraTS2020_preprocessed/Validation_pre/\""
   ]
  },
  {
   "cell_type": "code",
   "execution_count": 3,
   "metadata": {
    "scrolled": true
   },
   "outputs": [],
   "source": [
    "def create_data(input_path, output_path, min_max_norm = False, validation = False, swapaxes = False, verbose=True):\n",
    "    if validation==False:\n",
    "        csv_path = glob.glob(input_path+\"name_mapping*.csv\")\n",
    "        csv_file = pd.read_csv(csv_path[0])\n",
    "        grade = np.array(csv_file[\"Grade\"].tolist()) #csv list with HGG or LGG\n",
    "        #index grade type from csv\n",
    "        grade_type = np.unique(grade) #class: HGG or LGG\n",
    "        img_type = ['flair', 'seg','t1', 't1ce','t2']\n",
    "        #create folder for HGG and LGG\n",
    "        for types in grade_type:\n",
    "            save_path_01 = output_path+\"/\"+types\n",
    "            if not os.path.exists(save_path_01):\n",
    "                os.makedirs(save_path_01)\n",
    "            #create folder for img_type inside HGG or LGG folder\n",
    "            for imgs in img_type:\n",
    "                save_path_02 = save_path_01+\"/\"+imgs\n",
    "                if not os.path.exists(save_path_02):\n",
    "                    os.makedirs(save_path_02)\n",
    "    #create directory to store validation data \n",
    "    else: #validation == True\n",
    "        if not os.path.exists(output_path):\n",
    "            os.makedirs(output_path)\n",
    "    HGG_count = 0\n",
    "    LGG_count = 0\n",
    "    val_count = 0\n",
    "    for indx, patient in enumerate(sorted(os.listdir(input_path))):\n",
    "        #ex:/home/kevinteng/Desktop/ssd02/MICCAI_BraTS2020_TrainingData/BraTS20_Training_001/\n",
    "        input_path01 = os.path.join(input_path+patient+\"/\")\n",
    "        #for training data\n",
    "        if not patient.endswith('.csv') and validation==False: #do not need to read .csv files\n",
    "            #direct path to either HGG or LGG w.r.t patients\n",
    "            if grade[indx]=='HGG':\n",
    "                output_path01 = os.path.join(output_path+\"/HGG/\")\n",
    "                HGG_count+=1 #increment for HGG \n",
    "            else:\n",
    "                output_path01 = os.path.join(output_path+\"/LGG/\")\n",
    "                LGG_count+=1 #increment for LGG\n",
    "        #for validation data\n",
    "        elif not patient.endswith('.csv') and validation!=False:\n",
    "            output_path01 = output_path\n",
    "            val_count+=1\n",
    "        else: #skip csv file\n",
    "            continue\n",
    "        for patient_imgs in sorted(os.listdir(input_path01)):\n",
    "            #'BraTS20_Training_001_flair.nii.gz'\n",
    "            img = patient_imgs.split('.')[0].split('_')[-1]\n",
    "            #direct save path to corresponding image types (flair,seg,t1,t1ce,t2)\n",
    "            if img =='flair':\n",
    "                output_path02 = os.path.join(output_path01+\"/flair/\")\n",
    "            elif img =='seg':\n",
    "                output_path02 = os.path.join(output_path01+\"/seg/\")\n",
    "            elif img == 't1':\n",
    "                output_path02 = os.path.join(output_path01+\"/t1/\")\n",
    "            elif img == 't1ce':\n",
    "                output_path02 = os.path.join(output_path01+\"/t1ce/\")\n",
    "            else: #t2\n",
    "                output_path02 = os.path.join(output_path01+\"/t2/\")\n",
    "            if not os.path.exists(output_path02):\n",
    "                os.makedirs(output_path02)\n",
    "            #read imgs\n",
    "            input_path02 = os.path.join(input_path01+patient_imgs)\n",
    "            read_med_img,_ = medpy.io.load(input_path02)\n",
    "            img_slices = read_med_img.shape[-1] #last channel is image slices\n",
    "            #min max normalization switch, label 'seg' not included\n",
    "            if img!= 'seg' and min_max_norm==True:\n",
    "                norm_list = []\n",
    "                for i in range(read_med_img.shape[-1]): #last channel is the slices \n",
    "                    max_val = np.max(read_med_img[:,:,i]) #max value in that slice\n",
    "                    min_val = np.min(read_med_img[:,:,i]) #min value of that slice\n",
    "                    norm = (read_med_img[:,:,i] - min_val)/(max_val-min_val)\n",
    "                    norm_list.append(norm)\n",
    "                read_med_img = np.array(norm_list) #=>(155, 240, 240)\n",
    "                read_med_img = np.nan_to_num(read_med_img)\n",
    "                if swapaxes==True: #=>(240, 240, 155) in case of 3D \n",
    "                    read_med_img = np.swapaxes(read_med_img, 0,1)\n",
    "                    read_med_img = np.swapaxes(read_med_img, 1,2)\n",
    "            save = np.save(output_path02+\"/{}_{}.npy\".format(patient,img), read_med_img)\n",
    "    #output info after preprocessing\n",
    "    if verbose:\n",
    "        print(\"Medical image dimensions:{}\".format(read_med_img.shape))\n",
    "        if not validation:\n",
    "            print(\"HGG patients: {}\".format(HGG_count))\n",
    "            print(\"LGG patients: {}\".format(LGG_count))\n",
    "            print(\"Total patients: {}\".format(HGG_count + LGG_count))\n",
    "            print(\"Total image slices: {}\".format((HGG_count + LGG_count)*img_slices))\n",
    "        else:\n",
    "            print(\"Total patients: {}\".format(val_count))\n",
    "            print(\"Total image slices: {}\".format(val_count*img_slices))"
   ]
  },
  {
   "cell_type": "code",
   "execution_count": 4,
   "metadata": {},
   "outputs": [
    {
     "name": "stderr",
     "output_type": "stream",
     "text": [
      "/home/kevinteng/anaconda3/lib/python3.6/site-packages/ipykernel_launcher.py:70: RuntimeWarning: invalid value encountered in true_divide\n"
     ]
    },
    {
     "name": "stdout",
     "output_type": "stream",
     "text": [
      "Medical image dimensions:(240, 240, 155)\n",
      "HGG patients: 293\n",
      "LGG patients: 76\n",
      "Total patients: 369\n",
      "Total image slices: 57195\n"
     ]
    }
   ],
   "source": [
    "# #preprocessed training data\n",
    "create_data(training_ds_path, training_pre, min_max_norm = True, swapaxes = True)"
   ]
  },
  {
   "cell_type": "code",
   "execution_count": 5,
   "metadata": {},
   "outputs": [
    {
     "name": "stderr",
     "output_type": "stream",
     "text": [
      "/home/kevinteng/anaconda3/lib/python3.6/site-packages/ipykernel_launcher.py:70: RuntimeWarning: invalid value encountered in true_divide\n"
     ]
    },
    {
     "name": "stdout",
     "output_type": "stream",
     "text": [
      "Medical image dimensions:(240, 240, 155)\n",
      "Total patients: 125\n",
      "Total image slices: 19375\n"
     ]
    }
   ],
   "source": [
    "#preprocessed validation data\n",
    "create_data(validation_ds_path, validation_pre, min_max_norm = True, validation = True, swapaxes = True)"
   ]
  },
  {
   "cell_type": "markdown",
   "metadata": {},
   "source": [
    "---"
   ]
  },
  {
   "cell_type": "markdown",
   "metadata": {},
   "source": [
    "# Labels (Optional)"
   ]
  },
  {
   "cell_type": "code",
   "execution_count": 62,
   "metadata": {},
   "outputs": [],
   "source": [
    "def split_labels(inp_path, out_path):\n",
    "    for lbls in sorted(os.listdir(inp_path)):\n",
    "        patient_tag = lbls.split('.')[0]\n",
    "        npy_path = os.path.join(inp_path+'/'+lbls)\n",
    "        labels = np.load(npy_path)\n",
    "        #labels path\n",
    "        core_path = out_path+'core/'\n",
    "        enhancing_tumor_path = out_path+'enhancing_tumor/'\n",
    "        complete_tumor_path = out_path+'complete_tumor/'\n",
    "\n",
    "        #core, label 1,4\n",
    "        if not os.path.exists(core_path):\n",
    "            os.makedirs(core_path)\n",
    "        core = np.where(((labels==1) | (labels==4)), labels, 0)\n",
    "        np.save(core_path+'core_{}.npy'.format(patient_tag), core)\n",
    "        #enhancing tumor, label 4\n",
    "        if not os.path.exists(enhancing_tumor_path):\n",
    "            os.makedirs(enhancing_tumor_path)\n",
    "        enhancing_tumor = np.where(labels==4, labels, 0)\n",
    "        np.save(enhancing_tumor_path+'enhancing_tumor_{}.npy'.format(patient_tag), enhancing_tumor)\n",
    "\n",
    "        #complete tumor all label 1,2,3,4\n",
    "        if not os.path.exists(complete_tumor_path):\n",
    "            os.makedirs(complete_tumor_path)\n",
    "        complete_tumor = np.where(labels>=0, labels, 0 )\n",
    "        np.save(complete_tumor_path+'complete_tumor_{}.npy'.format(patient_tag), complete_tumor)\n",
    "    "
   ]
  },
  {
   "cell_type": "code",
   "execution_count": 16,
   "metadata": {},
   "outputs": [],
   "source": [
    "training_hgg_label = storage_path+\"BraTS2020_preprocessed/Training_pre/HGG/seg\"\n",
    "training_lgg_label = storage_path+\"BraTS2020_preprocessed/Training_pre/LGG/seg\"\n",
    "desktop_hgg_path = storage_path+'BRAT20_lbl/HGG/'\n",
    "desktop_lgg_path = storage_path+'BRAT20_lbl/LGG/'"
   ]
  },
  {
   "cell_type": "code",
   "execution_count": 63,
   "metadata": {},
   "outputs": [],
   "source": [
    "split_labels(training_hgg_label, desktop_hgg_path)\n",
    "split_labels(training_lgg_label, desktop_lgg_path)"
   ]
  },
  {
   "cell_type": "markdown",
   "metadata": {},
   "source": [
    "---"
   ]
  },
  {
   "cell_type": "markdown",
   "metadata": {},
   "source": [
    "# Sanity Check"
   ]
  },
  {
   "cell_type": "code",
   "execution_count": 64,
   "metadata": {},
   "outputs": [
    {
     "name": "stdout",
     "output_type": "stream",
     "text": [
      "complete_tumor_BraTS20_Training_001_seg.npy\n",
      "core_BraTS20_Training_001_seg.npy\n",
      "enhancing_tumor_BraTS20_Training_001_seg.npy\n"
     ]
    }
   ],
   "source": [
    "#check label \n",
    "#HGG\n",
    "lbl_count = 3\n",
    "seg_list = []\n",
    "for lbls in sorted(os.listdir(desktop_hgg_path)):\n",
    "    merge_00 = os.path.join(desktop_hgg_path+lbls+\"/\")\n",
    "    for seg in sorted(os.listdir(merge_00)):\n",
    "        print(seg)\n",
    "        segmentation = np.load(merge_00+seg)\n",
    "        break\n",
    "    seg_list.append(segmentation)\n",
    "    lbl_count+=1\n",
    "    if lbl_count == 3:\n",
    "        break"
   ]
  },
  {
   "cell_type": "code",
   "execution_count": 77,
   "metadata": {},
   "outputs": [
    {
     "name": "stdout",
     "output_type": "stream",
     "text": [
      "[0 1 2 4]\n"
     ]
    }
   ],
   "source": [
    "tst = np.load('/home/kevinteng/Desktop/ssd02/BraTS2020_preprocessed/Training_pre/HGG/seg/BraTS20_Training_001_seg.npy')\n",
    "print(np.unique(tst)) #only 4 labels"
   ]
  },
  {
   "cell_type": "code",
   "execution_count": 69,
   "metadata": {},
   "outputs": [
    {
     "name": "stdout",
     "output_type": "stream",
     "text": [
      "\n"
     ]
    },
    {
     "data": {
      "image/png": "[encoded data removed]",
      "text/plain": [
       "<Figure size 720x720 with 3 Axes>"
      ]
     },
     "metadata": {},
     "output_type": "display_data"
    }
   ],
   "source": [
    "input_img = [seg_list[i][:,:,50] for i in range(len(seg_list))]\n",
    "caption = ['complete', 'core', 'enhancing']\n",
    "plot_comparison(input_img, caption, n_col = 3, figsize=(10,10))"
   ]
  },
  {
   "cell_type": "code",
   "execution_count": 42,
   "metadata": {},
   "outputs": [
    {
     "name": "stdout",
     "output_type": "stream",
     "text": [
      "BraTS20_Training_001_flair.npy\n",
      "BraTS20_Training_001_t1.npy\n",
      "BraTS20_Training_001_t1ce.npy\n",
      "BraTS20_Training_001_t2.npy\n"
     ]
    }
   ],
   "source": [
    "img_count = 0\n",
    "multimodal_list = []\n",
    "for imgs in sorted(os.listdir(training_pre+\"HGG/\")):\n",
    "    if imgs!='seg':\n",
    "        merge_00 = os.path.join(training_pre+\"HGG/\"+imgs+\"/\")\n",
    "        for mm in sorted(os.listdir(merge_00)):\n",
    "            print(mm)\n",
    "            multimodal = np.load(merge_00+mm)\n",
    "            break\n",
    "        multimodal_list.append(multimodal)\n",
    "        img_count+=1\n",
    "    if img_count==4:\n",
    "        break"
   ]
  },
  {
   "cell_type": "code",
   "execution_count": 70,
   "metadata": {
    "scrolled": true
   },
   "outputs": [
    {
     "name": "stdout",
     "output_type": "stream",
     "text": [
      "\n"
     ]
    },
    {
     "data": {
      "image/png": "[encoded data removed]",
      "text/plain": [
       "<Figure size 720x720 with 4 Axes>"
      ]
     },
     "metadata": {},
     "output_type": "display_data"
    },
    {
     "name": "stdout",
     "output_type": "stream",
     "text": [
      "\n"
     ]
    },
    {
     "data": {
      "image/png": "[encoded data removed]",
      "text/plain": [
       "<Figure size 720x720 with 3 Axes>"
      ]
     },
     "metadata": {},
     "output_type": "display_data"
    }
   ],
   "source": [
    "input_img = [multimodal_list[i][50,:,:] for i in range(len(multimodal_list))]\n",
    "caption = ['flair', 't1', 't1ce', 't2']\n",
    "plot_comparison(input_img, caption, n_col = len(input_img), figsize=(10,10))\n",
    "\n",
    "input_img02 = [seg_list[i][:,:,50] for i in range(len(seg_list))]\n",
    "caption02 = ['complete', 'core', 'enhancing']\n",
    "plot_comparison(input_img02, caption02, n_col = 3, figsize=(10,10))"
   ]
  },
  {
   "cell_type": "markdown",
   "metadata": {},
   "source": [
    "---"
   ]
  },
  {
   "cell_type": "markdown",
   "metadata": {},
   "source": [
    "# Stacking Images "
   ]
  },
  {
   "cell_type": "code",
   "execution_count": 2,
   "metadata": {},
   "outputs": [],
   "source": [
    "def threeD_to_twoD(save_dir, input_path):\n",
    "    '''\n",
    "    Stack all the images according to slices of a patient to create a 2D image stacks\n",
    "    \n",
    "    @param save_dir: The directory where the images need to be save\n",
    "    @param input_path: The path where pre-processed .npy file is stored \n",
    "    '''\n",
    "    if not os.path.exists(save_dir):\n",
    "        os.makedirs(save_dir)\n",
    "\n",
    "    for brain_tumour in sorted(os.listdir(input_path)): #HGG/LGG\n",
    "        #create folder for HGG or LGG\n",
    "        #only for Training folder since HGG/LGG are not available\n",
    "        #for validation dataset\n",
    "        save_path01 = save_dir + brain_tumour\n",
    "        if not os.path.exists(save_path01):\n",
    "            os.makedirs(save_path01)\n",
    "        merge_path_00 = os.path.join(input_path+brain_tumour+\"/\")\n",
    "        for multi_modal in sorted(os.listdir(merge_path_00)): #flair,t1,t1ce,t2,seg\n",
    "            #create folder for multi modals\n",
    "#             save_path02 = save_path01 + \"/\"+multi_modal\n",
    "#             if not os.path.exists(save_path02):\n",
    "#                 os.makedirs(save_path02)\n",
    "            merge_path_01 = os.path.join(merge_path_00+multi_modal+'/')\n",
    "            img_stack = []\n",
    "            for patient in sorted(os.listdir(merge_path_01)): #patient.npy\n",
    "                merge_path_02 = os.path.join(merge_path_01+patient)\n",
    "                med_img = np.load(merge_path_02).astype(np.float32) #channel front\n",
    "                for i in range(med_img.shape[-1]): #last dimension is the number of slices\n",
    "                    img_stack.append(med_img[:,:,i])\n",
    "            img_stack = np.array(img_stack)\n",
    "            np.save(save_path01+'/{}_stack.npy'.format(multi_modal), img_stack)"
   ]
  },
  {
   "cell_type": "code",
   "execution_count": 3,
   "metadata": {},
   "outputs": [],
   "source": [
    "save_dir = \"/home/kevinteng/Desktop/ssd02/BraTS2020_stack/\"\n",
    "input_path = \"/home/kevinteng/Desktop/ssd02/BraTS2020_preprocessed/Training_pre/\"\n",
    "\n",
    "threeD_to_twoD(save_dir, input_path)"
   ]
  },
  {
   "cell_type": "markdown",
   "metadata": {},
   "source": [
    "---"
   ]
  },
  {
   "cell_type": "markdown",
   "metadata": {},
   "source": [
    "# Data Serialization with TF_Records (for fast loading)"
   ]
  },
  {
   "cell_type": "code",
   "execution_count": 3,
   "metadata": {},
   "outputs": [],
   "source": [
    "def concat_recursive(a, b, max_count,count=0):\n",
    "    '''\n",
    "    Recursively concatenate the image stacks with the next image stacks\n",
    "    \n",
    "    @param a: Top first image stacks\n",
    "    @param b: Following image stacks\n",
    "    '''\n",
    "    while count<max_count-1: \n",
    "        c = np.concatenate((a,b), axis = 0)\n",
    "        a = c\n",
    "        count+=1\n",
    "        concat_recursive(a,b, max_count, count)\n",
    "    return a\n",
    "\n",
    "def _bytes_feature(value):\n",
    "    \"\"\"Returns a bytes_list from a string / byte.\"\"\"\n",
    "    # If the value is an eager tensor BytesList won't unpack a string from an EagerTensor.\n",
    "    if isinstance(value, type(tf.constant(0))):\n",
    "        value = value.numpy() \n",
    "    return tf.train.Feature(bytes_list=tf.train.BytesList(value=[value]))\n",
    "\n",
    "def _float_feature(value):\n",
    "    \"\"\"Returns a float_list from a float / double.\"\"\"\n",
    "    return tf.train.Feature(float_list=tf.train.FloatList(value=[value]))\n",
    "\n",
    "def _int64_feature(value):\n",
    "    \"\"\"Returns an int64_list from a bool / enum / int / uint.\"\"\"\n",
    "    return tf.train.Feature(int64_list=tf.train.Int64List(value=[value]))\n",
    "\n",
    "def serialize_example(image, label):\n",
    "    '''\n",
    "    Adding image and label info to TFRecords dataset\n",
    "    '''\n",
    "    feature = {\n",
    "        'image': _bytes_feature(image),\n",
    "        'label': _bytes_feature(label),\n",
    "    }\n",
    "    example_proto = tf.train.Example(features=tf.train.Features(feature=feature))\n",
    "    return example_proto.SerializeToString()\n",
    "\n",
    "def write_tfrecords(tfrecord_dir, image_paths, labels_path):\n",
    "    '''\n",
    "    write TFRecords to appointed directory \n",
    "    '''\n",
    "    with tf.io.TFRecordWriter(tfrecord_dir) as writer:\n",
    "        for image, label in zip(image_paths, labels_path):\n",
    "            img_bytes = tf.io.serialize_tensor(image)\n",
    "            labels = tf.io.serialize_tensor(label)\n",
    "            example = serialize_example(img_bytes, labels)\n",
    "            writer.write(example)\n",
    "            \n",
    "def read_tfrecord(serialized_example):\n",
    "    '''\n",
    "    read TFRecords from appointed directory \n",
    "    '''\n",
    "    feature_description = {\n",
    "        'image': tf.io.FixedLenFeature((), tf.string),\n",
    "        'label': tf.io.FixedLenFeature((), tf.string),\n",
    "    }\n",
    "    example = tf.io.parse_single_example(serialized_example, feature_description)\n",
    "    \n",
    "    image = tf.io.parse_tensor(example['image'], out_type = float)\n",
    "    label = tf.io.parse_tensor(example['label'], out_type = float)\n",
    "    \n",
    "    return image, label\n",
    "\n",
    "def parse_tfrecord(tf_dir):\n",
    "    tfrecord_dataset = tf.data.TFRecordDataset(tf_dir)\n",
    "    parsed_dataset = tfrecord_dataset.map(read_tfrecord)\n",
    "    return parsed_dataset"
   ]
  },
  {
   "cell_type": "code",
   "execution_count": 3,
   "metadata": {},
   "outputs": [
    {
     "name": "stdout",
     "output_type": "stream",
     "text": [
      "HGG\n",
      "--> flair_stack.npy\n",
      "--> seg_stack.npy\n",
      "--> t1_stack.npy\n",
      "--> t1ce_stack.npy\n",
      "--> t2_stack.npy\n",
      "LGG\n",
      "--> flair_stack.npy\n",
      "--> seg_stack.npy\n",
      "--> t1_stack.npy\n",
      "--> t1ce_stack.npy\n",
      "--> t2_stack.npy\n"
     ]
    }
   ],
   "source": [
    "tfrecord_folder = '/home/kevinteng/Desktop/ssd02/BraTS20_tfrecords/'\n",
    "save_dir = \"/home/kevinteng/Desktop/ssd02/BraTS2020_stack/\"\n",
    "#zip stack images with labels\n",
    "for brain_tumour in sorted(os.listdir(save_dir)): #HGG/LGG\n",
    "    print(brain_tumour)\n",
    "    merge_path_00 = os.path.join(save_dir+brain_tumour+\"/\")\n",
    "    #create HGG/LGG folders for tf_records\n",
    "    save_path00 = tfrecord_folder + brain_tumour\n",
    "    if not os.path.exists(save_path00):\n",
    "        os.makedirs(save_path00)\n",
    "    ground_truth = np.load(merge_path_00+'seg_stack.npy') \n",
    "    for multimodals in sorted(os.listdir(merge_path_00)): #t1,t1ce,flair,t2,seg\n",
    "        print(\"-->\",multimodals)\n",
    "        merge_path_01 = os.path.join(merge_path_00+multimodals)\n",
    "        if multimodals=='seg_stack.npy':\n",
    "            #skip labels\n",
    "            continue\n",
    "        foreground = 0 #to declutter RAM\n",
    "        foreground = np.load(merge_path_01)\n",
    "        save_name = multimodals.split(\".\")[0]\n",
    "        tfrecord_dir = save_path00 + save_name +'.tfrecords'\n",
    "        write_tfrecords(tfrecord_dir, foreground,ground_truth)\n",
    "\n"
   ]
  },
  {
   "cell_type": "code",
   "execution_count": 8,
   "metadata": {},
   "outputs": [],
   "source": [
    "#sanity check\n",
    "tfrecords_read_dir = '/home/kevinteng/Desktop/ssd02/BraTS20_tfrecords/HGG/'\n",
    "SHUFFLE_BUFFER = 4000\n",
    "BATCH_SIZE = 8\n",
    "\n",
    "for tf_re in sorted(os.listdir(tfrecords_read_dir)):\n",
    "    tf_dir = os.path.join(tfrecords_read_dir+tf_re)\n",
    "    dataset = parse_tfrecord(tf_dir).shuffle(SHUFFLE_BUFFER).batch(BATCH_SIZE)\n",
    "    image, label = next(iter(dataset))\n",
    "    image = tf.reshape(image, [-1, 240, 240, 1])\n",
    "    label = tf.reshape(label, [-1, 240, 240, 1])\n",
    "    break"
   ]
  },
  {
   "cell_type": "code",
   "execution_count": 9,
   "metadata": {},
   "outputs": [
    {
     "data": {
      "text/plain": [
       "<matplotlib.image.AxesImage at 0x7f46b8194da0>"
      ]
     },
     "execution_count": 9,
     "metadata": {},
     "output_type": "execute_result"
    },
    {
     "data": {
      "image/png": "[encoded data removed]",
      "text/plain": [
       "<Figure size 432x288 with 1 Axes>"
      ]
     },
     "metadata": {},
     "output_type": "display_data"
    }
   ],
   "source": [
    "plt.imshow(tf.squeeze(image[2]), cmap = 'gray')"
   ]
  },
  {
   "cell_type": "code",
   "execution_count": 10,
   "metadata": {},
   "outputs": [
    {
     "data": {
      "text/plain": [
       "<matplotlib.image.AxesImage at 0x7f46b81131d0>"
      ]
     },
     "execution_count": 10,
     "metadata": {},
     "output_type": "execute_result"
    },
    {
     "data": {
      "image/png": "[encoded data removed]",
      "text/plain": [
       "<Figure size 432x288 with 1 Axes>"
      ]
     },
     "metadata": {},
     "output_type": "display_data"
    }
   ],
   "source": [
    "plt.imshow(tf.squeeze(label[2]), cmap = 'gray')"
   ]
  }
 ],
 "metadata": {
  "kernelspec": {
   "display_name": "Python 3",
   "language": "python",
   "name": "python3"
  },
  "language_info": {
   "codemirror_mode": {
    "name": "ipython",
    "version": 3
   },
   "file_extension": ".py",
   "mimetype": "text/x-python",
   "name": "python",
   "nbconvert_exporter": "python",
   "pygments_lexer": "ipython3",
   "version": "3.6.6"
  }
 },
 "nbformat": 4,
 "nbformat_minor": 2
}
